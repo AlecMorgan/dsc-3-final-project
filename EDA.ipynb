{
 "cells": [
  {
   "cell_type": "code",
   "execution_count": 1,
   "metadata": {},
   "outputs": [],
   "source": [
    "import pandas as pd\n",
    "import numpy as np\n",
    "import matplotlib.pyplot as plt\n",
    "%matplotlib inline\n",
    "import sqlalchemy\n",
    "import psycopg2"
   ]
  },
  {
   "cell_type": "code",
   "execution_count": 2,
   "metadata": {},
   "outputs": [
    {
     "data": {
      "text/plain": [
       "['resultsdata13', 'sampledata13']"
      ]
     },
     "execution_count": 2,
     "metadata": {},
     "output_type": "execute_result"
    }
   ],
   "source": [
    "engine = sqlalchemy.engine.create_engine('sqlite:///./data/database.sqlite')\n",
    "engine.table_names()"
   ]
  },
  {
   "cell_type": "code",
   "execution_count": 3,
   "metadata": {},
   "outputs": [],
   "source": [
    "con = engine.connect()"
   ]
  },
  {
   "cell_type": "code",
   "execution_count": 4,
   "metadata": {},
   "outputs": [
    {
     "data": {
      "text/plain": [
       "['sample_pk',\n",
       " 'state',\n",
       " 'year',\n",
       " 'month',\n",
       " 'day',\n",
       " 'site',\n",
       " 'commod',\n",
       " 'source_id',\n",
       " 'variety',\n",
       " 'origin',\n",
       " 'country',\n",
       " 'disttype',\n",
       " 'commtype',\n",
       " 'claim',\n",
       " 'quantity',\n",
       " 'growst',\n",
       " 'packst',\n",
       " 'distst']"
      ]
     },
     "execution_count": 4,
     "metadata": {},
     "output_type": "execute_result"
    }
   ],
   "source": [
    "query = 'SELECT * FROM sampledata13;'\n",
    "result = con.execute(query)\n",
    "result.keys()"
   ]
  },
  {
   "cell_type": "code",
   "execution_count": 5,
   "metadata": {},
   "outputs": [
    {
     "name": "stdout",
     "output_type": "stream",
     "text": [
      "Sample_Pk: 1\n",
      "State: CA\n",
      "Year: 13\n",
      "Month: 01\n",
      "Day: 22\n",
      "Site: 0004\n",
      "Commod: AJ\n",
      "Source_Id: P\n",
      "Variety: Apple Juice\n",
      "Origin: 2\n",
      "Country: 150\n",
      "Disttype: R\n",
      "Commtype: RE\n",
      "Claim: PO\n",
      "Quantity: \n",
      "Growst: \n",
      "Packst: \n",
      "Distst: IL\n",
      "\n"
     ]
    }
   ],
   "source": [
    "for k, v in zip(result.keys(), result.first()):\n",
    "    print(f'{k.title()}: {v}')"
   ]
  },
  {
   "cell_type": "code",
   "execution_count": null,
   "metadata": {},
   "outputs": [],
   "source": []
  }
 ],
 "metadata": {
  "kernelspec": {
   "display_name": "Python 3",
   "language": "python",
   "name": "python3"
  },
  "language_info": {
   "codemirror_mode": {
    "name": "ipython",
    "version": 3
   },
   "file_extension": ".py",
   "mimetype": "text/x-python",
   "name": "python",
   "nbconvert_exporter": "python",
   "pygments_lexer": "ipython3",
   "version": "3.7.1"
  }
 },
 "nbformat": 4,
 "nbformat_minor": 2
}

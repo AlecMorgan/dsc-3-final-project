{
 "cells": [
  {
   "cell_type": "code",
   "execution_count": 46,
   "metadata": {},
   "outputs": [
    {
     "name": "stderr",
     "output_type": "stream",
     "text": [
      "/anaconda3/lib/python3.7/site-packages/sklearn/externals/six.py:31: DeprecationWarning: The module is deprecated in version 0.21 and will be removed in version 0.23 since we've dropped support for Python 2.7. Please rely on the official version of six (https://pypi.org/project/six/).\n",
      "  \"(https://pypi.org/project/six/).\", DeprecationWarning)\n"
     ]
    }
   ],
   "source": [
    "import pandas as pd\n",
    "import numpy as np\n",
    "import matplotlib.pyplot as plt\n",
    "%matplotlib inline\n",
    "import seaborn as sns\n",
    "\n",
    "from sklearn.model_selection import train_test_split\n",
    "from sklearn.pipeline import Pipeline\n",
    "from sklearn.preprocessing import OneHotEncoder\n",
    "from sklearn.neighbors import KNeighborsClassifier\n",
    "from sklearn.preprocessing import StandardScaler\n",
    "from sklearn.model_selection import cross_val_score\n",
    "from sklearn.tree import DecisionTreeClassifier\n",
    "from sklearn.ensemble import BaggingRegressor, RandomForestRegressor, ExtraTreesRegressor\n",
    "from sklearn.ensemble import RandomForestClassifier, AdaBoostClassifier\n",
    "from six import StringIO\n",
    "from sklearn.linear_model import LogisticRegression\n",
    "from sklearn.metrics import precision_score, recall_score, accuracy_score, f1_score\n",
    "from imblearn.over_sampling import SMOTE"
   ]
  },
  {
   "cell_type": "code",
   "execution_count": 45,
   "metadata": {},
   "outputs": [
    {
     "name": "stdout",
     "output_type": "stream",
     "text": [
      "Collecting imblearn\n",
      "  Downloading https://files.pythonhosted.org/packages/81/a7/4179e6ebfd654bd0eac0b9c06125b8b4c96a9d0a8ff9e9507eb2a26d2d7e/imblearn-0.0-py2.py3-none-any.whl\n",
      "Collecting imbalanced-learn (from imblearn)\n",
      "  Using cached https://files.pythonhosted.org/packages/e5/4c/7557e1c2e791bd43878f8c82065bddc5798252084f26ef44527c02262af1/imbalanced_learn-0.4.3-py3-none-any.whl\n",
      "Requirement already satisfied: numpy>=1.8.2 in /anaconda3/lib/python3.7/site-packages (from imbalanced-learn->imblearn) (1.15.4)\n",
      "Requirement already satisfied: scikit-learn>=0.20 in /anaconda3/lib/python3.7/site-packages (from imbalanced-learn->imblearn) (0.21.2)\n",
      "Requirement already satisfied: scipy>=0.13.3 in /anaconda3/lib/python3.7/site-packages (from imbalanced-learn->imblearn) (1.1.0)\n",
      "Requirement already satisfied: joblib>=0.11 in /anaconda3/lib/python3.7/site-packages (from scikit-learn>=0.20->imbalanced-learn->imblearn) (0.13.2)\n",
      "Installing collected packages: imbalanced-learn, imblearn\n",
      "Successfully installed imbalanced-learn-0.4.3 imblearn-0.0\n"
     ]
    }
   ],
   "source": [
    "!pip install imblearn"
   ]
  },
  {
   "cell_type": "code",
   "execution_count": 2,
   "metadata": {},
   "outputs": [],
   "source": [
    "from our_functions import display_acc_and_f1_score"
   ]
  },
  {
   "cell_type": "code",
   "execution_count": 3,
   "metadata": {},
   "outputs": [],
   "source": [
    "df = pd.read_csv('data/cleaned_data.csv')"
   ]
  },
  {
   "cell_type": "code",
   "execution_count": 4,
   "metadata": {},
   "outputs": [
    {
     "data": {
      "text/html": [
       "<div>\n",
       "<style scoped>\n",
       "    .dataframe tbody tr th:only-of-type {\n",
       "        vertical-align: middle;\n",
       "    }\n",
       "\n",
       "    .dataframe tbody tr th {\n",
       "        vertical-align: top;\n",
       "    }\n",
       "\n",
       "    .dataframe thead th {\n",
       "        text-align: right;\n",
       "    }\n",
       "</style>\n",
       "<table border=\"1\" class=\"dataframe\">\n",
       "  <thead>\n",
       "    <tr style=\"text-align: right;\">\n",
       "      <th></th>\n",
       "      <th>sample_pk</th>\n",
       "      <th>commod</th>\n",
       "      <th>commtype</th>\n",
       "      <th>lab</th>\n",
       "      <th>pestcode</th>\n",
       "      <th>lod</th>\n",
       "      <th>annotate</th>\n",
       "      <th>avg_detect</th>\n",
       "      <th>extract</th>\n",
       "      <th>determin</th>\n",
       "      <th>concentration</th>\n",
       "    </tr>\n",
       "  </thead>\n",
       "  <tbody>\n",
       "    <tr>\n",
       "      <th>0</th>\n",
       "      <td>239</td>\n",
       "      <td>AJ</td>\n",
       "      <td>RE</td>\n",
       "      <td>WA1</td>\n",
       "      <td>083</td>\n",
       "      <td>0.005</td>\n",
       "      <td>Q</td>\n",
       "      <td>O</td>\n",
       "      <td>805</td>\n",
       "      <td>35</td>\n",
       "      <td>80000.0</td>\n",
       "    </tr>\n",
       "    <tr>\n",
       "      <th>1</th>\n",
       "      <td>1183</td>\n",
       "      <td>BR</td>\n",
       "      <td>FR</td>\n",
       "      <td>FL1</td>\n",
       "      <td>AFU</td>\n",
       "      <td>0.010</td>\n",
       "      <td>V</td>\n",
       "      <td>O</td>\n",
       "      <td>805</td>\n",
       "      <td>52</td>\n",
       "      <td>110000.0</td>\n",
       "    </tr>\n",
       "    <tr>\n",
       "      <th>2</th>\n",
       "      <td>1196</td>\n",
       "      <td>BR</td>\n",
       "      <td>FR</td>\n",
       "      <td>FL1</td>\n",
       "      <td>AFU</td>\n",
       "      <td>0.010</td>\n",
       "      <td>V</td>\n",
       "      <td>O</td>\n",
       "      <td>805</td>\n",
       "      <td>52</td>\n",
       "      <td>130000.0</td>\n",
       "    </tr>\n",
       "    <tr>\n",
       "      <th>3</th>\n",
       "      <td>1230</td>\n",
       "      <td>BR</td>\n",
       "      <td>FR</td>\n",
       "      <td>FL1</td>\n",
       "      <td>144</td>\n",
       "      <td>0.005</td>\n",
       "      <td>V</td>\n",
       "      <td>O</td>\n",
       "      <td>805</td>\n",
       "      <td>35</td>\n",
       "      <td>350000.0</td>\n",
       "    </tr>\n",
       "    <tr>\n",
       "      <th>4</th>\n",
       "      <td>1269</td>\n",
       "      <td>BR</td>\n",
       "      <td>FR</td>\n",
       "      <td>FL1</td>\n",
       "      <td>180</td>\n",
       "      <td>0.010</td>\n",
       "      <td>V</td>\n",
       "      <td>O</td>\n",
       "      <td>805</td>\n",
       "      <td>52</td>\n",
       "      <td>260000.0</td>\n",
       "    </tr>\n",
       "  </tbody>\n",
       "</table>\n",
       "</div>"
      ],
      "text/plain": [
       "   sample_pk commod commtype  lab pestcode    lod annotate avg_detect  \\\n",
       "0        239     AJ       RE  WA1      083  0.005        Q          O   \n",
       "1       1183     BR       FR  FL1      AFU  0.010        V          O   \n",
       "2       1196     BR       FR  FL1      AFU  0.010        V          O   \n",
       "3       1230     BR       FR  FL1      144  0.005        V          O   \n",
       "4       1269     BR       FR  FL1      180  0.010        V          O   \n",
       "\n",
       "   extract  determin  concentration  \n",
       "0      805        35        80000.0  \n",
       "1      805        52       110000.0  \n",
       "2      805        52       130000.0  \n",
       "3      805        35       350000.0  \n",
       "4      805        52       260000.0  "
      ]
     },
     "execution_count": 4,
     "metadata": {},
     "output_type": "execute_result"
    }
   ],
   "source": [
    "df.head()"
   ]
  },
  {
   "cell_type": "code",
   "execution_count": 5,
   "metadata": {},
   "outputs": [
    {
     "name": "stdout",
     "output_type": "stream",
     "text": [
      "<class 'pandas.core.frame.DataFrame'>\n",
      "RangeIndex: 4887 entries, 0 to 4886\n",
      "Data columns (total 11 columns):\n",
      "sample_pk        4887 non-null int64\n",
      "commod           4887 non-null object\n",
      "commtype         4887 non-null object\n",
      "lab              4887 non-null object\n",
      "pestcode         4887 non-null object\n",
      "lod              4887 non-null float64\n",
      "annotate         4887 non-null object\n",
      "avg_detect       4887 non-null object\n",
      "extract          4887 non-null int64\n",
      "determin         4887 non-null int64\n",
      "concentration    4887 non-null float64\n",
      "dtypes: float64(2), int64(3), object(6)\n",
      "memory usage: 420.1+ KB\n"
     ]
    }
   ],
   "source": [
    "df.info()"
   ]
  },
  {
   "cell_type": "markdown",
   "metadata": {},
   "source": [
    "## Split data"
   ]
  },
  {
   "cell_type": "code",
   "execution_count": 6,
   "metadata": {},
   "outputs": [],
   "source": [
    "X = df.drop(['annotate'], axis=1)\n",
    "y = df.annotate"
   ]
  },
  {
   "cell_type": "code",
   "execution_count": 7,
   "metadata": {},
   "outputs": [],
   "source": [
    "X_train, X_test, y_train, y_test = train_test_split(X, y, test_size = 0.20, random_state=20)"
   ]
  },
  {
   "cell_type": "markdown",
   "metadata": {},
   "source": [
    "## One-hot-encode data. Note that splitting the date before encoding resulted in too many different categories match dimensions of data to train with test, so we had to onehotencode first."
   ]
  },
  {
   "cell_type": "code",
   "execution_count": 8,
   "metadata": {},
   "outputs": [],
   "source": [
    "categoricals = ['commod', 'commtype', 'lab', 'pestcode', 'avg_detect']"
   ]
  },
  {
   "cell_type": "code",
   "execution_count": 9,
   "metadata": {},
   "outputs": [],
   "source": [
    "encoder= OneHotEncoder(categories = 'auto', drop='first')\n",
    "encoder = encoder.fit(X[categoricals])"
   ]
  },
  {
   "cell_type": "code",
   "execution_count": 10,
   "metadata": {},
   "outputs": [
    {
     "data": {
      "text/plain": [
       "[array(['AJ', 'BR', 'BU', 'CE', 'CF', 'CR', 'GB', 'GJ', 'IA', 'MU', 'NE',\n",
       "        'PC', 'PU', 'RS', 'RZ', 'SS', 'WG', 'WR', 'WS', 'WU'], dtype=object),\n",
       " array(['FR', 'FZ', 'PU', 'RE'], dtype=object),\n",
       " array(['CA1', 'FL1', 'MI1', 'MN1', 'MT1', 'NY1', 'OH1', 'TX1', 'WA1'],\n",
       "       dtype=object),\n",
       " array(['014', '024', '026', '028', '032', '034', '042', '052', '070',\n",
       "        '083', '114', '125', '129', '134', '143', '144', '149', '151',\n",
       "        '157', '159', '160', '165', '170', '171', '172', '173', '178',\n",
       "        '180', '200', '204', '222', '223', '230', '237', '249', '255',\n",
       "        '264', '283', '305', '318', '333', '351', '382', '387', '512',\n",
       "        '537', '539', '540', '597', '604', '607', '612', '624', '626',\n",
       "        '633', '651', '666', '679', '699', '701', '714', '717', '718',\n",
       "        '720', '731', '758', '780', '781', '784', '785', '808', '900',\n",
       "        '901', '902', '906', '907', '908', '910', '911', '930', '942',\n",
       "        '945', '948', '956', '964', '967', 'A25', 'A30', 'A42', 'A58',\n",
       "        'ABB', 'ABF', 'ABN', 'ABO', 'ABP', 'ABQ', 'ACB', 'ACG', 'ACH',\n",
       "        'ACI', 'ADG', 'AEB', 'AED', 'AEE', 'AEL', 'AEM', 'AEP', 'AES',\n",
       "        'AEY', 'AFB', 'AFC', 'AFO', 'AFS', 'AFU', 'AFX', 'AGA', 'AGG',\n",
       "        'AGT', 'AGW', 'AGX', 'AGY', 'AHM', 'AHS', 'AHT', 'AJP', 'AKD',\n",
       "        'AKW', 'B10', 'B16', 'B22', 'B23', 'B32', 'B41', 'B43', 'B48',\n",
       "        'B52', 'B56', 'B57', 'B58', 'B61', 'B64', 'B72', 'B75', 'B77',\n",
       "        'B79', 'B80', 'B82', 'B84', 'B85'], dtype=object),\n",
       " array(['O', 'R'], dtype=object)]"
      ]
     },
     "execution_count": 10,
     "metadata": {},
     "output_type": "execute_result"
    }
   ],
   "source": [
    "encoder.categories_"
   ]
  },
  {
   "cell_type": "code",
   "execution_count": 11,
   "metadata": {},
   "outputs": [
    {
     "data": {
      "text/html": [
       "<div>\n",
       "<style scoped>\n",
       "    .dataframe tbody tr th:only-of-type {\n",
       "        vertical-align: middle;\n",
       "    }\n",
       "\n",
       "    .dataframe tbody tr th {\n",
       "        vertical-align: top;\n",
       "    }\n",
       "\n",
       "    .dataframe thead th {\n",
       "        text-align: right;\n",
       "    }\n",
       "</style>\n",
       "<table border=\"1\" class=\"dataframe\">\n",
       "  <thead>\n",
       "    <tr style=\"text-align: right;\">\n",
       "      <th></th>\n",
       "      <th>commod_BR</th>\n",
       "      <th>commod_BU</th>\n",
       "      <th>commod_CE</th>\n",
       "      <th>commod_CF</th>\n",
       "      <th>commod_CR</th>\n",
       "      <th>commod_GB</th>\n",
       "      <th>commod_GJ</th>\n",
       "      <th>commod_IA</th>\n",
       "      <th>commod_MU</th>\n",
       "      <th>commod_NE</th>\n",
       "      <th>...</th>\n",
       "      <th>pestcode_B64</th>\n",
       "      <th>pestcode_B72</th>\n",
       "      <th>pestcode_B75</th>\n",
       "      <th>pestcode_B77</th>\n",
       "      <th>pestcode_B79</th>\n",
       "      <th>pestcode_B80</th>\n",
       "      <th>pestcode_B82</th>\n",
       "      <th>pestcode_B84</th>\n",
       "      <th>pestcode_B85</th>\n",
       "      <th>avg_detect_R</th>\n",
       "    </tr>\n",
       "  </thead>\n",
       "  <tbody>\n",
       "    <tr>\n",
       "      <th>0</th>\n",
       "      <td>0.0</td>\n",
       "      <td>0.0</td>\n",
       "      <td>0.0</td>\n",
       "      <td>0.0</td>\n",
       "      <td>0.0</td>\n",
       "      <td>0.0</td>\n",
       "      <td>0.0</td>\n",
       "      <td>0.0</td>\n",
       "      <td>0.0</td>\n",
       "      <td>0.0</td>\n",
       "      <td>...</td>\n",
       "      <td>0.0</td>\n",
       "      <td>0.0</td>\n",
       "      <td>0.0</td>\n",
       "      <td>0.0</td>\n",
       "      <td>0.0</td>\n",
       "      <td>0.0</td>\n",
       "      <td>0.0</td>\n",
       "      <td>0.0</td>\n",
       "      <td>0.0</td>\n",
       "      <td>0.0</td>\n",
       "    </tr>\n",
       "    <tr>\n",
       "      <th>1</th>\n",
       "      <td>1.0</td>\n",
       "      <td>0.0</td>\n",
       "      <td>0.0</td>\n",
       "      <td>0.0</td>\n",
       "      <td>0.0</td>\n",
       "      <td>0.0</td>\n",
       "      <td>0.0</td>\n",
       "      <td>0.0</td>\n",
       "      <td>0.0</td>\n",
       "      <td>0.0</td>\n",
       "      <td>...</td>\n",
       "      <td>0.0</td>\n",
       "      <td>0.0</td>\n",
       "      <td>0.0</td>\n",
       "      <td>0.0</td>\n",
       "      <td>0.0</td>\n",
       "      <td>0.0</td>\n",
       "      <td>0.0</td>\n",
       "      <td>0.0</td>\n",
       "      <td>0.0</td>\n",
       "      <td>0.0</td>\n",
       "    </tr>\n",
       "    <tr>\n",
       "      <th>2</th>\n",
       "      <td>1.0</td>\n",
       "      <td>0.0</td>\n",
       "      <td>0.0</td>\n",
       "      <td>0.0</td>\n",
       "      <td>0.0</td>\n",
       "      <td>0.0</td>\n",
       "      <td>0.0</td>\n",
       "      <td>0.0</td>\n",
       "      <td>0.0</td>\n",
       "      <td>0.0</td>\n",
       "      <td>...</td>\n",
       "      <td>0.0</td>\n",
       "      <td>0.0</td>\n",
       "      <td>0.0</td>\n",
       "      <td>0.0</td>\n",
       "      <td>0.0</td>\n",
       "      <td>0.0</td>\n",
       "      <td>0.0</td>\n",
       "      <td>0.0</td>\n",
       "      <td>0.0</td>\n",
       "      <td>0.0</td>\n",
       "    </tr>\n",
       "    <tr>\n",
       "      <th>3</th>\n",
       "      <td>1.0</td>\n",
       "      <td>0.0</td>\n",
       "      <td>0.0</td>\n",
       "      <td>0.0</td>\n",
       "      <td>0.0</td>\n",
       "      <td>0.0</td>\n",
       "      <td>0.0</td>\n",
       "      <td>0.0</td>\n",
       "      <td>0.0</td>\n",
       "      <td>0.0</td>\n",
       "      <td>...</td>\n",
       "      <td>0.0</td>\n",
       "      <td>0.0</td>\n",
       "      <td>0.0</td>\n",
       "      <td>0.0</td>\n",
       "      <td>0.0</td>\n",
       "      <td>0.0</td>\n",
       "      <td>0.0</td>\n",
       "      <td>0.0</td>\n",
       "      <td>0.0</td>\n",
       "      <td>0.0</td>\n",
       "    </tr>\n",
       "    <tr>\n",
       "      <th>4</th>\n",
       "      <td>1.0</td>\n",
       "      <td>0.0</td>\n",
       "      <td>0.0</td>\n",
       "      <td>0.0</td>\n",
       "      <td>0.0</td>\n",
       "      <td>0.0</td>\n",
       "      <td>0.0</td>\n",
       "      <td>0.0</td>\n",
       "      <td>0.0</td>\n",
       "      <td>0.0</td>\n",
       "      <td>...</td>\n",
       "      <td>0.0</td>\n",
       "      <td>0.0</td>\n",
       "      <td>0.0</td>\n",
       "      <td>0.0</td>\n",
       "      <td>0.0</td>\n",
       "      <td>0.0</td>\n",
       "      <td>0.0</td>\n",
       "      <td>0.0</td>\n",
       "      <td>0.0</td>\n",
       "      <td>0.0</td>\n",
       "    </tr>\n",
       "  </tbody>\n",
       "</table>\n",
       "<p>5 rows × 179 columns</p>\n",
       "</div>"
      ],
      "text/plain": [
       "   commod_BR  commod_BU  commod_CE  commod_CF  commod_CR  commod_GB  \\\n",
       "0        0.0        0.0        0.0        0.0        0.0        0.0   \n",
       "1        1.0        0.0        0.0        0.0        0.0        0.0   \n",
       "2        1.0        0.0        0.0        0.0        0.0        0.0   \n",
       "3        1.0        0.0        0.0        0.0        0.0        0.0   \n",
       "4        1.0        0.0        0.0        0.0        0.0        0.0   \n",
       "\n",
       "   commod_GJ  commod_IA  commod_MU  commod_NE      ...       pestcode_B64  \\\n",
       "0        0.0        0.0        0.0        0.0      ...                0.0   \n",
       "1        0.0        0.0        0.0        0.0      ...                0.0   \n",
       "2        0.0        0.0        0.0        0.0      ...                0.0   \n",
       "3        0.0        0.0        0.0        0.0      ...                0.0   \n",
       "4        0.0        0.0        0.0        0.0      ...                0.0   \n",
       "\n",
       "   pestcode_B72  pestcode_B75  pestcode_B77  pestcode_B79  pestcode_B80  \\\n",
       "0           0.0           0.0           0.0           0.0           0.0   \n",
       "1           0.0           0.0           0.0           0.0           0.0   \n",
       "2           0.0           0.0           0.0           0.0           0.0   \n",
       "3           0.0           0.0           0.0           0.0           0.0   \n",
       "4           0.0           0.0           0.0           0.0           0.0   \n",
       "\n",
       "   pestcode_B82  pestcode_B84  pestcode_B85  avg_detect_R  \n",
       "0           0.0           0.0           0.0           0.0  \n",
       "1           0.0           0.0           0.0           0.0  \n",
       "2           0.0           0.0           0.0           0.0  \n",
       "3           0.0           0.0           0.0           0.0  \n",
       "4           0.0           0.0           0.0           0.0  \n",
       "\n",
       "[5 rows x 179 columns]"
      ]
     },
     "execution_count": 11,
     "metadata": {},
     "output_type": "execute_result"
    }
   ],
   "source": [
    "ohe = pd.DataFrame(encoder.transform(X[categoricals]).toarray(), \n",
    "                   columns=encoder.get_feature_names(categoricals))\n",
    "ohe.head()"
   ]
  },
  {
   "cell_type": "code",
   "execution_count": 12,
   "metadata": {},
   "outputs": [
    {
     "name": "stdout",
     "output_type": "stream",
     "text": [
      "<class 'pandas.core.frame.DataFrame'>\n",
      "RangeIndex: 4887 entries, 0 to 4886\n",
      "Columns: 179 entries, commod_BR to avg_detect_R\n",
      "dtypes: float64(179)\n",
      "memory usage: 6.7 MB\n"
     ]
    }
   ],
   "source": [
    "ohe.info()"
   ]
  },
  {
   "cell_type": "code",
   "execution_count": 13,
   "metadata": {},
   "outputs": [
    {
     "data": {
      "text/html": [
       "<div>\n",
       "<style scoped>\n",
       "    .dataframe tbody tr th:only-of-type {\n",
       "        vertical-align: middle;\n",
       "    }\n",
       "\n",
       "    .dataframe tbody tr th {\n",
       "        vertical-align: top;\n",
       "    }\n",
       "\n",
       "    .dataframe thead th {\n",
       "        text-align: right;\n",
       "    }\n",
       "</style>\n",
       "<table border=\"1\" class=\"dataframe\">\n",
       "  <thead>\n",
       "    <tr style=\"text-align: right;\">\n",
       "      <th></th>\n",
       "      <th>sample_pk</th>\n",
       "      <th>lod</th>\n",
       "      <th>extract</th>\n",
       "      <th>determin</th>\n",
       "      <th>concentration</th>\n",
       "      <th>commod_BR</th>\n",
       "      <th>commod_BU</th>\n",
       "      <th>commod_CE</th>\n",
       "      <th>commod_CF</th>\n",
       "      <th>commod_CR</th>\n",
       "      <th>...</th>\n",
       "      <th>pestcode_B64</th>\n",
       "      <th>pestcode_B72</th>\n",
       "      <th>pestcode_B75</th>\n",
       "      <th>pestcode_B77</th>\n",
       "      <th>pestcode_B79</th>\n",
       "      <th>pestcode_B80</th>\n",
       "      <th>pestcode_B82</th>\n",
       "      <th>pestcode_B84</th>\n",
       "      <th>pestcode_B85</th>\n",
       "      <th>avg_detect_R</th>\n",
       "    </tr>\n",
       "  </thead>\n",
       "  <tbody>\n",
       "    <tr>\n",
       "      <th>0</th>\n",
       "      <td>239</td>\n",
       "      <td>0.005</td>\n",
       "      <td>805</td>\n",
       "      <td>35</td>\n",
       "      <td>80000.0</td>\n",
       "      <td>0.0</td>\n",
       "      <td>0.0</td>\n",
       "      <td>0.0</td>\n",
       "      <td>0.0</td>\n",
       "      <td>0.0</td>\n",
       "      <td>...</td>\n",
       "      <td>0.0</td>\n",
       "      <td>0.0</td>\n",
       "      <td>0.0</td>\n",
       "      <td>0.0</td>\n",
       "      <td>0.0</td>\n",
       "      <td>0.0</td>\n",
       "      <td>0.0</td>\n",
       "      <td>0.0</td>\n",
       "      <td>0.0</td>\n",
       "      <td>0.0</td>\n",
       "    </tr>\n",
       "    <tr>\n",
       "      <th>1</th>\n",
       "      <td>1183</td>\n",
       "      <td>0.010</td>\n",
       "      <td>805</td>\n",
       "      <td>52</td>\n",
       "      <td>110000.0</td>\n",
       "      <td>1.0</td>\n",
       "      <td>0.0</td>\n",
       "      <td>0.0</td>\n",
       "      <td>0.0</td>\n",
       "      <td>0.0</td>\n",
       "      <td>...</td>\n",
       "      <td>0.0</td>\n",
       "      <td>0.0</td>\n",
       "      <td>0.0</td>\n",
       "      <td>0.0</td>\n",
       "      <td>0.0</td>\n",
       "      <td>0.0</td>\n",
       "      <td>0.0</td>\n",
       "      <td>0.0</td>\n",
       "      <td>0.0</td>\n",
       "      <td>0.0</td>\n",
       "    </tr>\n",
       "    <tr>\n",
       "      <th>2</th>\n",
       "      <td>1196</td>\n",
       "      <td>0.010</td>\n",
       "      <td>805</td>\n",
       "      <td>52</td>\n",
       "      <td>130000.0</td>\n",
       "      <td>1.0</td>\n",
       "      <td>0.0</td>\n",
       "      <td>0.0</td>\n",
       "      <td>0.0</td>\n",
       "      <td>0.0</td>\n",
       "      <td>...</td>\n",
       "      <td>0.0</td>\n",
       "      <td>0.0</td>\n",
       "      <td>0.0</td>\n",
       "      <td>0.0</td>\n",
       "      <td>0.0</td>\n",
       "      <td>0.0</td>\n",
       "      <td>0.0</td>\n",
       "      <td>0.0</td>\n",
       "      <td>0.0</td>\n",
       "      <td>0.0</td>\n",
       "    </tr>\n",
       "    <tr>\n",
       "      <th>3</th>\n",
       "      <td>1230</td>\n",
       "      <td>0.005</td>\n",
       "      <td>805</td>\n",
       "      <td>35</td>\n",
       "      <td>350000.0</td>\n",
       "      <td>1.0</td>\n",
       "      <td>0.0</td>\n",
       "      <td>0.0</td>\n",
       "      <td>0.0</td>\n",
       "      <td>0.0</td>\n",
       "      <td>...</td>\n",
       "      <td>0.0</td>\n",
       "      <td>0.0</td>\n",
       "      <td>0.0</td>\n",
       "      <td>0.0</td>\n",
       "      <td>0.0</td>\n",
       "      <td>0.0</td>\n",
       "      <td>0.0</td>\n",
       "      <td>0.0</td>\n",
       "      <td>0.0</td>\n",
       "      <td>0.0</td>\n",
       "    </tr>\n",
       "    <tr>\n",
       "      <th>4</th>\n",
       "      <td>1269</td>\n",
       "      <td>0.010</td>\n",
       "      <td>805</td>\n",
       "      <td>52</td>\n",
       "      <td>260000.0</td>\n",
       "      <td>1.0</td>\n",
       "      <td>0.0</td>\n",
       "      <td>0.0</td>\n",
       "      <td>0.0</td>\n",
       "      <td>0.0</td>\n",
       "      <td>...</td>\n",
       "      <td>0.0</td>\n",
       "      <td>0.0</td>\n",
       "      <td>0.0</td>\n",
       "      <td>0.0</td>\n",
       "      <td>0.0</td>\n",
       "      <td>0.0</td>\n",
       "      <td>0.0</td>\n",
       "      <td>0.0</td>\n",
       "      <td>0.0</td>\n",
       "      <td>0.0</td>\n",
       "    </tr>\n",
       "  </tbody>\n",
       "</table>\n",
       "<p>5 rows × 184 columns</p>\n",
       "</div>"
      ],
      "text/plain": [
       "   sample_pk    lod  extract  determin  concentration  commod_BR  commod_BU  \\\n",
       "0        239  0.005      805        35        80000.0        0.0        0.0   \n",
       "1       1183  0.010      805        52       110000.0        1.0        0.0   \n",
       "2       1196  0.010      805        52       130000.0        1.0        0.0   \n",
       "3       1230  0.005      805        35       350000.0        1.0        0.0   \n",
       "4       1269  0.010      805        52       260000.0        1.0        0.0   \n",
       "\n",
       "   commod_CE  commod_CF  commod_CR      ...       pestcode_B64  pestcode_B72  \\\n",
       "0        0.0        0.0        0.0      ...                0.0           0.0   \n",
       "1        0.0        0.0        0.0      ...                0.0           0.0   \n",
       "2        0.0        0.0        0.0      ...                0.0           0.0   \n",
       "3        0.0        0.0        0.0      ...                0.0           0.0   \n",
       "4        0.0        0.0        0.0      ...                0.0           0.0   \n",
       "\n",
       "   pestcode_B75  pestcode_B77  pestcode_B79  pestcode_B80  pestcode_B82  \\\n",
       "0           0.0           0.0           0.0           0.0           0.0   \n",
       "1           0.0           0.0           0.0           0.0           0.0   \n",
       "2           0.0           0.0           0.0           0.0           0.0   \n",
       "3           0.0           0.0           0.0           0.0           0.0   \n",
       "4           0.0           0.0           0.0           0.0           0.0   \n",
       "\n",
       "   pestcode_B84  pestcode_B85  avg_detect_R  \n",
       "0           0.0           0.0           0.0  \n",
       "1           0.0           0.0           0.0  \n",
       "2           0.0           0.0           0.0  \n",
       "3           0.0           0.0           0.0  \n",
       "4           0.0           0.0           0.0  \n",
       "\n",
       "[5 rows x 184 columns]"
      ]
     },
     "execution_count": 13,
     "metadata": {},
     "output_type": "execute_result"
    }
   ],
   "source": [
    "X = X.join(ohe).drop(categoricals, axis=1)\n",
    "X.head()"
   ]
  },
  {
   "cell_type": "markdown",
   "metadata": {},
   "source": [
    "## Split encoded data"
   ]
  },
  {
   "cell_type": "code",
   "execution_count": 29,
   "metadata": {},
   "outputs": [],
   "source": [
    "enc_X_train, enc_X_test, y_train, y_test = train_test_split(X, y, test_size = 0.20, random_state=20)"
   ]
  },
  {
   "cell_type": "markdown",
   "metadata": {},
   "source": [
    "## Nearest neighbors model"
   ]
  },
  {
   "cell_type": "code",
   "execution_count": 30,
   "metadata": {},
   "outputs": [
    {
     "data": {
      "text/plain": [
       "KNeighborsClassifier(algorithm='auto', leaf_size=30, metric='minkowski',\n",
       "                     metric_params=None, n_jobs=None, n_neighbors=5, p=2,\n",
       "                     weights='uniform')"
      ]
     },
     "execution_count": 30,
     "metadata": {},
     "output_type": "execute_result"
    }
   ],
   "source": [
    "knc = KNeighborsClassifier()\n",
    "knc.fit(enc_X_train, y_train)"
   ]
  },
  {
   "cell_type": "code",
   "execution_count": 31,
   "metadata": {},
   "outputs": [
    {
     "data": {
      "text/plain": [
       "Q     3624\n",
       "V      149\n",
       "QV     117\n",
       "X       19\n",
       "Name: annotate, dtype: int64"
      ]
     },
     "execution_count": 31,
     "metadata": {},
     "output_type": "execute_result"
    }
   ],
   "source": [
    "y_train.value_counts()"
   ]
  },
  {
   "cell_type": "code",
   "execution_count": 32,
   "metadata": {},
   "outputs": [],
   "source": [
    "k_preds = knc.predict(enc_X_test)"
   ]
  },
  {
   "cell_type": "code",
   "execution_count": 33,
   "metadata": {},
   "outputs": [
    {
     "data": {
      "text/plain": [
       "Q     909\n",
       "V      37\n",
       "QV     28\n",
       "X       4\n",
       "Name: annotate, dtype: int64"
      ]
     },
     "execution_count": 33,
     "metadata": {},
     "output_type": "execute_result"
    }
   ],
   "source": [
    "y_test.value_counts()"
   ]
  },
  {
   "cell_type": "code",
   "execution_count": 39,
   "metadata": {},
   "outputs": [
    {
     "data": {
      "text/plain": [
       "(array(['Q', 'QV', 'V', 'X'], dtype=object), array([951,   7,  17,   3]))"
      ]
     },
     "execution_count": 39,
     "metadata": {},
     "output_type": "execute_result"
    }
   ],
   "source": [
    "np.unique(k_preds, return_counts=True)"
   ]
  },
  {
   "cell_type": "code",
   "execution_count": 35,
   "metadata": {},
   "outputs": [
    {
     "data": {
      "text/plain": [
       "0.9519427402862985"
      ]
     },
     "execution_count": 35,
     "metadata": {},
     "output_type": "execute_result"
    }
   ],
   "source": [
    "knc.score(enc_X_test, y_test)"
   ]
  },
  {
   "cell_type": "markdown",
   "metadata": {},
   "source": [
    "## Logistic regression model"
   ]
  },
  {
   "cell_type": "code",
   "execution_count": 21,
   "metadata": {},
   "outputs": [],
   "source": [
    "import statsmodels.api as sm"
   ]
  },
  {
   "cell_type": "code",
   "execution_count": 22,
   "metadata": {},
   "outputs": [],
   "source": [
    "from sklearn.linear_model import LogisticRegression"
   ]
  },
  {
   "cell_type": "code",
   "execution_count": 23,
   "metadata": {},
   "outputs": [
    {
     "data": {
      "text/plain": [
       "LogisticRegression(C=1.0, class_weight=None, dual=False, fit_intercept=True,\n",
       "                   intercept_scaling=1, l1_ratio=None, max_iter=100,\n",
       "                   multi_class='multinomial', n_jobs=None, penalty='l2',\n",
       "                   random_state=None, solver='lbfgs', tol=0.0001, verbose=0,\n",
       "                   warm_start=False)"
      ]
     },
     "execution_count": 23,
     "metadata": {},
     "output_type": "execute_result"
    }
   ],
   "source": [
    "mul_r = LogisticRegression(multi_class='multinomial', solver='lbfgs')\n",
    "mul_r.fit(enc_X_train, y_train)"
   ]
  },
  {
   "cell_type": "code",
   "execution_count": 24,
   "metadata": {},
   "outputs": [
    {
     "data": {
      "text/plain": [
       "0.9294478527607362"
      ]
     },
     "execution_count": 24,
     "metadata": {},
     "output_type": "execute_result"
    }
   ],
   "source": [
    "mul_r.score(enc_X_test, y_test)"
   ]
  },
  {
   "cell_type": "code",
   "execution_count": 25,
   "metadata": {},
   "outputs": [
    {
     "data": {
      "text/plain": [
       "0.9270913277052955"
      ]
     },
     "execution_count": 25,
     "metadata": {},
     "output_type": "execute_result"
    }
   ],
   "source": [
    "mul_r.score(enc_X_train, y_train)"
   ]
  },
  {
   "cell_type": "markdown",
   "metadata": {},
   "source": [
    "It looks like our target variable has an abnormal distribution."
   ]
  },
  {
   "cell_type": "code",
   "execution_count": 42,
   "metadata": {},
   "outputs": [
    {
     "data": {
      "text/plain": [
       "<matplotlib.axes._subplots.AxesSubplot at 0x1c229b29b0>"
      ]
     },
     "execution_count": 42,
     "metadata": {},
     "output_type": "execute_result"
    },
    {
     "data": {
      "image/png": "[encoded data removed]",
      "text/plain": [
       "<Figure size 432x288 with 1 Axes>"
      ]
     },
     "metadata": {
      "needs_background": "light"
     },
     "output_type": "display_data"
    }
   ],
   "source": [
    "sns.countplot(x=df['annotate'], data=df)"
   ]
  },
  {
   "cell_type": "markdown",
   "metadata": {},
   "source": [
    "We'll resample to improve target representation."
   ]
  },
  {
   "cell_type": "code",
   "execution_count": 49,
   "metadata": {},
   "outputs": [],
   "source": [
    "smote = SMOTE('not majority')\n",
    "X_smote, y_smote = smote.fit_resample(enc_X_train, y_train)"
   ]
  },
  {
   "cell_type": "code",
   "execution_count": 51,
   "metadata": {},
   "outputs": [
    {
     "data": {
      "text/plain": [
       "(array(['Q', 'QV', 'V', 'X'], dtype=object), array([3624, 3624, 3624, 3624]))"
      ]
     },
     "execution_count": 51,
     "metadata": {},
     "output_type": "execute_result"
    }
   ],
   "source": [
    "np.unique(y_smote, return_counts=True)"
   ]
  },
  {
   "cell_type": "markdown",
   "metadata": {},
   "source": [
    "There's an even distribution, so now we'll train our models on the SMOTE data."
   ]
  },
  {
   "cell_type": "code",
   "execution_count": 66,
   "metadata": {},
   "outputs": [
    {
     "data": {
      "text/plain": [
       "KNeighborsClassifier(algorithm='auto', leaf_size=30, metric='minkowski',\n",
       "                     metric_params=None, n_jobs=None, n_neighbors=5, p=2,\n",
       "                     weights='uniform')"
      ]
     },
     "execution_count": 66,
     "metadata": {},
     "output_type": "execute_result"
    }
   ],
   "source": [
    "knc = KNeighborsClassifier()\n",
    "knc.fit(X_smote, y_smote)"
   ]
  },
  {
   "cell_type": "code",
   "execution_count": 67,
   "metadata": {},
   "outputs": [
    {
     "data": {
      "text/plain": [
       "0.8732106339468303"
      ]
     },
     "execution_count": 67,
     "metadata": {},
     "output_type": "execute_result"
    }
   ],
   "source": [
    "knc.score(enc_X_test, y_test)"
   ]
  },
  {
   "cell_type": "markdown",
   "metadata": {},
   "source": [
    "0.873 is still quite high. "
   ]
  },
  {
   "cell_type": "code",
   "execution_count": 59,
   "metadata": {},
   "outputs": [
    {
     "data": {
      "text/plain": [
       "LogisticRegression(C=1.0, class_weight=None, dual=False, fit_intercept=True,\n",
       "                   intercept_scaling=1, l1_ratio=None, max_iter=100,\n",
       "                   multi_class='multinomial', n_jobs=None, penalty='l2',\n",
       "                   random_state=None, solver='lbfgs', tol=0.0001, verbose=0,\n",
       "                   warm_start=False)"
      ]
     },
     "execution_count": 59,
     "metadata": {},
     "output_type": "execute_result"
    }
   ],
   "source": [
    "mul_r = LogisticRegression(multi_class='multinomial', solver='lbfgs')\n",
    "mul_r.fit(X_smote, y_smote)"
   ]
  },
  {
   "cell_type": "code",
   "execution_count": 61,
   "metadata": {},
   "outputs": [
    {
     "data": {
      "text/plain": [
       "0.25"
      ]
     },
     "execution_count": 61,
     "metadata": {},
     "output_type": "execute_result"
    }
   ],
   "source": [
    "mul_r.score(X_smote, y_smote)"
   ]
  },
  {
   "cell_type": "code",
   "execution_count": null,
   "metadata": {},
   "outputs": [],
   "source": []
  }
 ],
 "metadata": {
  "kernelspec": {
   "display_name": "Python [conda env:root]",
   "language": "python",
   "name": "conda-root-py"
  },
  "language_info": {
   "codemirror_mode": {
    "name": "ipython",
    "version": 3
   },
   "file_extension": ".py",
   "mimetype": "text/x-python",
   "name": "python",
   "nbconvert_exporter": "python",
   "pygments_lexer": "ipython3",
   "version": "3.7.1"
  }
 },
 "nbformat": 4,
 "nbformat_minor": 2
}

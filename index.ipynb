{
 "cells": [
  {
   "cell_type": "markdown",
   "metadata": {},
   "source": [
    "# Module X Final Project\n",
    "\n",
    "\n",
    "## Introduction\n",
    "\n",
    "In this lesson, we'll review all of the guidelines and specifications for the final project for Module X. \n",
    "\n",
    "## Objectives\n",
    "You will be able to:\n",
    "* Describe all required aspects of the final project for Module X\n",
    "* Describe all required deliverables\n",
    "* Describe what constitutes a successful project\n",
    "* Describe what the experience of the project review should be like"
   ]
  },
  {
   "cell_type": "markdown",
   "metadata": {},
   "source": [
    "## Final Project Summary\n",
    "\n",
    "You've made it all the way through another  module of this course - congratulations!\n",
    "\n",
    "\n",
    "## The Dataset\n",
    "\n",
    "\n",
    "## The Deliverables\n",
    "\n"
   ]
  },
  {
   "cell_type": "markdown",
   "metadata": {},
   "source": [
    "## The Process\n",
    "\n",
    "### 1. Getting Started\n",
    "\n",
    "Please start by reviewing this document. If you have any questions, please ask them in slack ASAP so (a) we can answer the questions and (b) so we can update this repository to make it clearer.\n",
    "\n",
    "Once you're done with the rest of the module, please start on the project. Do that by forking this repository, cloning it locally, and working in the student.ipynb file. Make sure to also add and commit a pdf of your presentation to the repository with a file name of `presentation.pdf`.\n",
    "\n",
    "### 2. The Project Review\n",
    "\n",
    "> **When you start on the project, please also reach out to an instructor immediately to schedule your project review** (if you're not sure who to schedule with, please ask in slack!)\n",
    "\n",
    "#### What to expect from the Project Review\n",
    "\n",
    "Project reviews are focused on preparing you for technical interviews. Treat project reviews as if they were technical interviews, in both attitude and technical presentation *(sometimes technical interviews will feel arbitrary or unfair - if you want to get the job, commentiing on that is seldom a good choice)*.\n",
    "\n",
    "The project review is comprised of a 45 minute 1:1 session with one of the instructors. During your project review, be prepared to:\n",
    "\n",
    "#### 1. Deliver your PDF presentation to a non-technical stakeholder. \n",
    "In this phase of the review (~10 mins) your instructor will play the part of a non-technical stakeholder that you are presenting your findings to. The presentation should not exceed 5 minutes, giving the \"stakeholder\" 5 minutes to ask questions.\n",
    "\n",
    "In the first half of the presentation (2-3 mins), you should summarize your methodology in a way that will be comprehensible to someone with no background in data science and that will increase their confidence in you and your findings. In the second half (the remaining 2-3 mins) you should summarize your findings and be ready to answer a couple of non-technical questions from the audience. The questions might relate to technical topics (sampling bias, confidence, etc) but will be asked in a non-technical way and need to be answered in a way that does not assume a background in statistics or machine learning. You can assume a smart, business stakeholder, with a non-quantitative college degree.\n",
    "\n",
    "#### 2. Go through the Jupyter Notebook, answering questions about how you made certain decisions. Be ready to explain things like:\n",
    "    * \"how did you pick the question(s) that you did?\"\n",
    "    * \"why are these questions important from a business perspective?\"\n",
    "    * \"how did you decide on the data cleaning options you performed?\"\n",
    "    * \"why did you choose a given method or library?\"\n",
    "    * \"why did you select those visualizations and what did you learn from each of them?\"\n",
    "    * \"why did you pick those features as predictors?\"\n",
    "    * \"how would you interpret the results?\"\n",
    "    * \"how confident are you in the predictive quality of the results?\"\n",
    "    * \"what are some of the things that could cause the results to be wrong?\"\n",
    "\n",
    "Think of the second phase of the review (~30 mins) as a technical boss reviewing your work and asking questions about it before green-lighting you to present to the business team. You should practice using the appropriate technical vocabulary to explain yourself. Don't be surprised if the instructor jumps around or sometimes cuts you off - there is a lot of ground to cover, so that may happen.\n",
    "\n",
    "If any requirements are missing or if significant gaps in understanding are uncovered, be prepared to do one or all of the following:\n",
    "* Perform additional data cleanup, visualization, feature selection, modeling and/or model validation\n",
    "* Submit an improved version\n",
    "* Meet again for another Project Review\n",
    "\n",
    "What won't happen:\n",
    "* You won't be yelled at, belittled, or scolded\n",
    "* You won't be put on the spot without support\n",
    "* There's nothing you can do to instantly fail or blow it\n",
    "\n",
    "**Please note: We need to receive the URL of your repository at least 24 hours before your review so we can look at your materials in advance.** \n"
   ]
  },
  {
   "cell_type": "markdown",
   "metadata": {},
   "source": [
    "## Requirements\n",
    "\n",
    "This section outlines the rubric we'll use to evaluate your project.\n",
    "\n",
    "### 1. Technical Report Must-Haves\n",
    "\n",
    "\n",
    "\n",
    "### 2. Non-Technical Presentation Must-Haves\n",
    "\n",
    "\n",
    "\n",
    "### 3. Blog Post\n",
    "\n",
    "Please also write a blog post about one element of the project - it could be the EDA, the feature selection, the choice of visualizations or anything else technical relating to the project. It should be between 800-1500 words and should be targeted at your peers - aspiring data scientists.\n"
   ]
  },
  {
   "cell_type": "markdown",
   "metadata": {},
   "source": [
    "## Summary\n",
    "\n",
    "The end of module projects and project reviews are a critical part of the program. They give you a chance to both bring together all the skills you've learned into realistic projects and to practice key \"business judgement\" and communication skills that you otherwise might not get as much practice with.\n",
    "\n",
    "The projects are serious and important. They are not graded, but they can be passed and they can be failed. Take the project seriously, put the time in, ask for help from your peers or instructors early and often if you need it, and treat the review as a job interview and you'll do great. We're rooting for you to succeed and we're only going to ask you to take a review again if we believe that you need to. We'll also provide open and honest feedback so you can improve as quickly and efficiently as possible.\n",
    "\n",
    "We don't expect you to remember all of the terms or to get all of the answers right. If in doubt, be honest. If you don't know something, say so. If you can't remember it, just say so. It's very unusual for someone to complete a project review without being asked a question they're unsure of, we know you might be nervous which may affect your performance. Just be as honest, precise and focused as you can be, and you'll do great!\n"
   ]
  }
 ],
 "metadata": {
  "kernelspec": {
   "display_name": "Python 3",
   "language": "python",
   "name": "python3"
  },
  "language_info": {
   "codemirror_mode": {
    "name": "ipython",
    "version": 3
   },
   "file_extension": ".py",
   "mimetype": "text/x-python",
   "name": "python",
   "nbconvert_exporter": "python",
   "pygments_lexer": "ipython3",
   "version": "3.6.5"
  }
 },
 "nbformat": 4,
 "nbformat_minor": 2
}

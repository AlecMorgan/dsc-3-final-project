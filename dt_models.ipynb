{
 "cells": [
  {
   "cell_type": "code",
   "execution_count": 1,
   "metadata": {},
   "outputs": [],
   "source": [
    "from sklearn.tree import DecisionTreeClassifier\n",
    "from sklearn.ensemble import GradientBoostingClassifier, RandomForestClassifier, BaggingClassifier\n",
    "from sklearn.model_selection import train_test_split\n",
    "from sklearn.preprocessing import OneHotEncoder\n",
    "from sklearn import tree\n",
    "from IPython.display import Image\n",
    "import pydotplus\n",
    "import collections\n",
    "import numpy as np\n",
    "import pandas as pd\n",
    "from helper import score_model, get_preds\n",
    "import matplotlib.pyplot as plt\n",
    "%matplotlib inline\n",
    "import seaborn as sns"
   ]
  },
  {
   "cell_type": "code",
   "execution_count": 2,
   "metadata": {},
   "outputs": [
    {
     "data": {
      "text/html": [
       "<div>\n",
       "<style scoped>\n",
       "    .dataframe tbody tr th:only-of-type {\n",
       "        vertical-align: middle;\n",
       "    }\n",
       "\n",
       "    .dataframe tbody tr th {\n",
       "        vertical-align: top;\n",
       "    }\n",
       "\n",
       "    .dataframe thead th {\n",
       "        text-align: right;\n",
       "    }\n",
       "</style>\n",
       "<table border=\"1\" class=\"dataframe\">\n",
       "  <thead>\n",
       "    <tr style=\"text-align: right;\">\n",
       "      <th></th>\n",
       "      <th>sample_pk</th>\n",
       "      <th>commod</th>\n",
       "      <th>commtype</th>\n",
       "      <th>lab</th>\n",
       "      <th>pestcode</th>\n",
       "      <th>lod</th>\n",
       "      <th>avg_detect</th>\n",
       "      <th>extract</th>\n",
       "      <th>determin</th>\n",
       "      <th>concentration</th>\n",
       "      <th>target</th>\n",
       "    </tr>\n",
       "  </thead>\n",
       "  <tbody>\n",
       "    <tr>\n",
       "      <th>0</th>\n",
       "      <td>239</td>\n",
       "      <td>AJ</td>\n",
       "      <td>RE</td>\n",
       "      <td>WA1</td>\n",
       "      <td>083</td>\n",
       "      <td>0.005</td>\n",
       "      <td>O</td>\n",
       "      <td>805</td>\n",
       "      <td>35</td>\n",
       "      <td>80000.0</td>\n",
       "      <td>0</td>\n",
       "    </tr>\n",
       "    <tr>\n",
       "      <th>1</th>\n",
       "      <td>1183</td>\n",
       "      <td>BR</td>\n",
       "      <td>FR</td>\n",
       "      <td>FL1</td>\n",
       "      <td>AFU</td>\n",
       "      <td>0.010</td>\n",
       "      <td>O</td>\n",
       "      <td>805</td>\n",
       "      <td>52</td>\n",
       "      <td>110000.0</td>\n",
       "      <td>1</td>\n",
       "    </tr>\n",
       "    <tr>\n",
       "      <th>2</th>\n",
       "      <td>1196</td>\n",
       "      <td>BR</td>\n",
       "      <td>FR</td>\n",
       "      <td>FL1</td>\n",
       "      <td>AFU</td>\n",
       "      <td>0.010</td>\n",
       "      <td>O</td>\n",
       "      <td>805</td>\n",
       "      <td>52</td>\n",
       "      <td>130000.0</td>\n",
       "      <td>1</td>\n",
       "    </tr>\n",
       "    <tr>\n",
       "      <th>3</th>\n",
       "      <td>1230</td>\n",
       "      <td>BR</td>\n",
       "      <td>FR</td>\n",
       "      <td>FL1</td>\n",
       "      <td>144</td>\n",
       "      <td>0.005</td>\n",
       "      <td>O</td>\n",
       "      <td>805</td>\n",
       "      <td>35</td>\n",
       "      <td>350000.0</td>\n",
       "      <td>1</td>\n",
       "    </tr>\n",
       "    <tr>\n",
       "      <th>4</th>\n",
       "      <td>1269</td>\n",
       "      <td>BR</td>\n",
       "      <td>FR</td>\n",
       "      <td>FL1</td>\n",
       "      <td>180</td>\n",
       "      <td>0.010</td>\n",
       "      <td>O</td>\n",
       "      <td>805</td>\n",
       "      <td>52</td>\n",
       "      <td>260000.0</td>\n",
       "      <td>1</td>\n",
       "    </tr>\n",
       "  </tbody>\n",
       "</table>\n",
       "</div>"
      ],
      "text/plain": [
       "   sample_pk commod commtype  lab pestcode    lod avg_detect  extract  \\\n",
       "0        239     AJ       RE  WA1      083  0.005          O      805   \n",
       "1       1183     BR       FR  FL1      AFU  0.010          O      805   \n",
       "2       1196     BR       FR  FL1      AFU  0.010          O      805   \n",
       "3       1230     BR       FR  FL1      144  0.005          O      805   \n",
       "4       1269     BR       FR  FL1      180  0.010          O      805   \n",
       "\n",
       "   determin  concentration  target  \n",
       "0        35        80000.0       0  \n",
       "1        52       110000.0       1  \n",
       "2        52       130000.0       1  \n",
       "3        35       350000.0       1  \n",
       "4        52       260000.0       1  "
      ]
     },
     "execution_count": 2,
     "metadata": {},
     "output_type": "execute_result"
    }
   ],
   "source": [
    "data = pd.read_csv('data/cleaned_data.csv')\n",
    "data.head()"
   ]
  },
  {
   "cell_type": "code",
   "execution_count": 3,
   "metadata": {},
   "outputs": [
    {
     "name": "stdout",
     "output_type": "stream",
     "text": [
      "<class 'pandas.core.frame.DataFrame'>\n",
      "RangeIndex: 4887 entries, 0 to 4886\n",
      "Data columns (total 11 columns):\n",
      "sample_pk        4887 non-null int64\n",
      "commod           4887 non-null object\n",
      "commtype         4887 non-null object\n",
      "lab              4887 non-null object\n",
      "pestcode         4887 non-null object\n",
      "lod              4887 non-null float64\n",
      "avg_detect       4887 non-null object\n",
      "extract          4887 non-null int64\n",
      "determin         4887 non-null int64\n",
      "concentration    4887 non-null float64\n",
      "target           4887 non-null int64\n",
      "dtypes: float64(2), int64(4), object(5)\n",
      "memory usage: 420.1+ KB\n"
     ]
    }
   ],
   "source": [
    "data.info()"
   ]
  },
  {
   "cell_type": "code",
   "execution_count": 4,
   "metadata": {},
   "outputs": [
    {
     "data": {
      "text/plain": [
       "[('commod', 20),\n",
       " ('commtype', 4),\n",
       " ('lab', 9),\n",
       " ('pestcode', 149),\n",
       " ('avg_detect', 2)]"
      ]
     },
     "execution_count": 4,
     "metadata": {},
     "output_type": "execute_result"
    }
   ],
   "source": [
    "[(col, data[col].nunique()) for col in data.columns if data[col].dtype == 'O']"
   ]
  },
  {
   "cell_type": "code",
   "execution_count": 5,
   "metadata": {},
   "outputs": [
    {
     "data": {
      "text/plain": [
       "array(['083', 'AFU', '144', '180', '512', '114', '666', 'A58', '540',\n",
       "       '597', '930', 'AFX', '910', 'ABB', '222', '223', 'AEL', '070',\n",
       "       'AGW', '160', '170', '612', '264', '151', 'B48', 'B58', 'B80',\n",
       "       '967', '906', '129', '204', 'AHT', 'AGG', 'B79', 'AES', '679',\n",
       "       'AFO', '249', 'B16', '134', 'B43', 'B77', 'B52', '159', '171',\n",
       "       '178', '052', '607', 'B75', 'B64', 'AHM', '626', '230', 'AGX',\n",
       "       '283', 'AEP', 'AGY', '900', '901', '908', '537', '351', 'A30',\n",
       "       'AGA', 'B61', '907', '028', 'AKD', '902', '024', '200', '014',\n",
       "       'AFC', '165', '911', '945', '387', '781', '808', '157', 'B56',\n",
       "       'B22', 'B23', '604', 'AEM', 'B41', 'ADG', '042', 'B85', '956',\n",
       "       '714', 'B57', 'AKW', 'AJP', 'B10', '651', '237', '699', '382',\n",
       "       '720', 'AFS', 'B84', 'AHS', '539', '125', 'B82', '948', 'B32',\n",
       "       'AGT', '624', '026', '731', 'ACG', '633', '333', '780', 'ABN',\n",
       "       'ACB', 'AEY', '785', 'AED', 'AFB', '032', 'ACH', '305', '784',\n",
       "       '964', '149', '701', '942', 'ABO', 'A42', 'AEB', '758', '717',\n",
       "       'ABQ', 'B72', '318', 'ABP', 'A25', 'AEE', 'ABF', '173', '034',\n",
       "       '255', '143', '172', '718', 'ACI'], dtype=object)"
      ]
     },
     "execution_count": 5,
     "metadata": {},
     "output_type": "execute_result"
    }
   ],
   "source": [
    "data['pestcode'].unique()"
   ]
  },
  {
   "cell_type": "code",
   "execution_count": 6,
   "metadata": {},
   "outputs": [],
   "source": [
    "categoricals = ['commod', 'commtype', 'lab', 'pestcode', 'avg_detect']"
   ]
  },
  {
   "cell_type": "code",
   "execution_count": 7,
   "metadata": {},
   "outputs": [],
   "source": [
    "X = data.drop('target', axis=1)\n",
    "y = data['target']\n",
    "X_train, X_test, y_train, y_test = train_test_split(X, y, random_state=25565, test_size=.5)"
   ]
  },
  {
   "cell_type": "code",
   "execution_count": 8,
   "metadata": {},
   "outputs": [],
   "source": [
    "encoder = OneHotEncoder(categories='auto', handle_unknown='ignore')\n",
    "encoder.fit(X_train[categoricals])\n",
    "X_train = pd.DataFrame(encoder.transform(X_train[categoricals]).toarray(),\n",
    "                         columns=encoder.get_feature_names(categoricals))\n",
    "X_test = pd.DataFrame(encoder.transform(X_test[categoricals]).toarray(),\n",
    "                        columns=encoder.get_feature_names(categoricals))\n",
    "\n",
    "#print(encoder.categories_)\n",
    "#[print(col, end=', ') for col in ohe.columns];\n",
    "#ohe.head()"
   ]
  },
  {
   "cell_type": "code",
   "execution_count": 9,
   "metadata": {},
   "outputs": [
    {
     "data": {
      "text/plain": [
       "DecisionTreeClassifier(class_weight=None, criterion='gini', max_depth=None,\n",
       "                       max_features=None, max_leaf_nodes=None,\n",
       "                       min_impurity_decrease=0.0, min_impurity_split=None,\n",
       "                       min_samples_leaf=30, min_samples_split=2,\n",
       "                       min_weight_fraction_leaf=0.0, presort=False,\n",
       "                       random_state=25565, splitter='best')"
      ]
     },
     "execution_count": 9,
     "metadata": {},
     "output_type": "execute_result"
    }
   ],
   "source": [
    "dt = DecisionTreeClassifier(random_state=25565, min_samples_leaf=30)\n",
    "dt.fit(X_train, y_train)\n",
    "#dt.score(X_train, y_train), dt.score(X_test, y_test)"
   ]
  },
  {
   "cell_type": "code",
   "execution_count": 10,
   "metadata": {},
   "outputs": [
    {
     "data": {
      "text/plain": [
       "(0.9533360622185837, 0.9623567921440261)"
      ]
     },
     "execution_count": 10,
     "metadata": {},
     "output_type": "execute_result"
    }
   ],
   "source": [
    "gb = GradientBoostingClassifier(random_state=25565, min_samples_leaf=30)\n",
    "gb.fit(X_train, y_train)\n",
    "gb.score(X_train, y_train), gb.score(X_test, y_test)"
   ]
  },
  {
   "cell_type": "code",
   "execution_count": 11,
   "metadata": {},
   "outputs": [
    {
     "data": {
      "text/plain": [
       "(0.9959066721244372, 0.9623567921440261)"
      ]
     },
     "execution_count": 11,
     "metadata": {},
     "output_type": "execute_result"
    }
   ],
   "source": [
    "bg = BaggingClassifier(random_state=25565)\n",
    "bg.fit(X_train, y_train)\n",
    "bg.score(X_train, y_train), gb.score(X_test, y_test)"
   ]
  },
  {
   "cell_type": "code",
   "execution_count": 12,
   "metadata": {},
   "outputs": [
    {
     "data": {
      "text/plain": [
       "(0.9963160049119935, 0.9963175122749591)"
      ]
     },
     "execution_count": 12,
     "metadata": {},
     "output_type": "execute_result"
    }
   ],
   "source": [
    "rf = RandomForestClassifier(random_state=25565, n_estimators=100)\n",
    "rf.fit(X_train, y_train)\n",
    "rf.score(X_train, y_train), rf.score(X_test, y_test)"
   ]
  },
  {
   "cell_type": "markdown",
   "metadata": {},
   "source": [
    "### In this context, our `clf_thres` decides how sure we must be that pesticide residue levels are _not_ at presumptive violation levels (i.e. that the produce is safe) before we choose not to flag the produce for further review. For example, `clf_thres=.9` means we must be at least 90% sure that the produce is safe or we'll flag it as having a presumptive violation. "
   ]
  },
  {
   "cell_type": "code",
   "execution_count": 13,
   "metadata": {},
   "outputs": [
    {
     "name": "stdout",
     "output_type": "stream",
     "text": [
      "\n",
      "Classification Threshold 10.0%:\n",
      "Accuracy: 0.9509\n",
      "Precision: 1.0\n",
      "F1: 0.4059\n",
      "Recall: 0.2547\n",
      "\n",
      "Classification Threshold 30.0%:\n",
      "Accuracy: 0.9509\n",
      "Precision: 1.0\n",
      "F1: 0.4059\n",
      "Recall: 0.2547\n",
      "\n",
      "Classification Threshold 50.0%:\n",
      "Accuracy: 0.955\n",
      "Precision: 0.7217\n",
      "F1: 0.6014\n",
      "Recall: 0.5155\n",
      "\n",
      "Classification Threshold 70.0%:\n",
      "Accuracy: 0.955\n",
      "Precision: 0.7217\n",
      "F1: 0.6014\n",
      "Recall: 0.5155\n",
      "\n",
      "Classification Threshold 90.0%:\n",
      "Accuracy: 0.8204\n",
      "Precision: 0.2347\n",
      "F1: 0.3591\n",
      "Recall: 0.764\n",
      "\n",
      "Classification Threshold 95.0%:\n",
      "Accuracy: 0.6665\n",
      "Precision: 0.1636\n",
      "F1: 0.2807\n",
      "Recall: 0.9876\n",
      "\n",
      "Classification Threshold 99.0%:\n",
      "Accuracy: 0.6412\n",
      "Precision: 0.1544\n",
      "F1: 0.2673\n",
      "Recall: 0.9938\n"
     ]
    }
   ],
   "source": [
    "for clf_thres in [.1, .3, .5, .7, .9, .95, .99]:\n",
    "    y_pred = get_preds(dt, X_test, clf_thres=clf_thres)\n",
    "    print(f'\\nClassification Threshold {clf_thres*100}%:')\n",
    "    score_model(y_test, y_pred)"
   ]
  },
  {
   "cell_type": "code",
   "execution_count": 17,
   "metadata": {},
   "outputs": [
    {
     "data": {
      "text/plain": [
       "{'accuracy': 0.6665, 'precision': 0.1636, 'f1': 0.2807, 'recall': 0.9876}"
      ]
     },
     "execution_count": 17,
     "metadata": {},
     "output_type": "execute_result"
    }
   ],
   "source": [
    "y_pred = get_preds(dt, X_test, clf_thres=.95)\n",
    "score_model(y_test, y_pred, output='dict')"
   ]
  },
  {
   "cell_type": "code",
   "execution_count": 22,
   "metadata": {},
   "outputs": [],
   "source": [
    "def show_model_scores(model, model_name, X, y_true, clf_thres_lower, clf_thres_upper):\n",
    "    \"\"\"Plots the accuracy, precision, f1, and recall scores of th model along \n",
    "    the full gamut of classification thresholds within the specified bounds.\"\"\"\n",
    "    clf_thresholds = np.linspace(clf_thres_lower, clf_thres_upper)\n",
    "    accuracy, precision, f1, recall = [], [], [], []\n",
    "    for clf_thres in clf_thresholds:\n",
    "        y_pred = get_preds(model, X, clf_thres=clf_thres)\n",
    "        scores = score_model(y_test, y_pred, output='dict')\n",
    "        accuracy.append(scores['accuracy'])\n",
    "        precision.append(scores['precision'])\n",
    "        f1.append(scores['f1'])\n",
    "        recall.append(scores['recall'])\n",
    "        \n",
    "    plt.figure(figsize=(12, 12))\n",
    "    plt.title(f'{model_name.title()}')\n",
    "    plt.ylabel('Score')\n",
    "    plt.xlabel('Classification Threshold')\n",
    "    for score in [accuracy, precision, f1, recall]:\n",
    "        plt.plot(score, clf_thresholds, label=)\n",
    "    plt.legend();"
   ]
  },
  {
   "cell_type": "code",
   "execution_count": 23,
   "metadata": {},
   "outputs": [
    {
     "name": "stderr",
     "output_type": "stream",
     "text": [
      "No handles with labels found to put in legend.\n"
     ]
    },
    {
     "data": {
      "image/png": "[encoded data removed]",
      "text/plain": [
       "<Figure size 864x864 with 1 Axes>"
      ]
     },
     "metadata": {
      "needs_background": "light"
     },
     "output_type": "display_data"
    }
   ],
   "source": [
    "show_model_scores(dt, 'Decision Tree', X_test, y_test, .9, .99)"
   ]
  },
  {
   "cell_type": "code",
   "execution_count": null,
   "metadata": {},
   "outputs": [],
   "source": []
  }
 ],
 "metadata": {
  "kernelspec": {
   "display_name": "learn-env",
   "language": "python",
   "name": "learn-env"
  },
  "language_info": {
   "codemirror_mode": {
    "name": "ipython",
    "version": 3
   },
   "file_extension": ".py",
   "mimetype": "text/x-python",
   "name": "python",
   "nbconvert_exporter": "python",
   "pygments_lexer": "ipython3",
   "version": "3.7.1"
  }
 },
 "nbformat": 4,
 "nbformat_minor": 2
}

{
 "cells": [
  {
   "cell_type": "code",
   "execution_count": 1,
   "metadata": {},
   "outputs": [
    {
     "name": "stderr",
     "output_type": "stream",
     "text": [
      "/anaconda3/lib/python3.7/site-packages/sklearn/externals/six.py:31: DeprecationWarning: The module is deprecated in version 0.21 and will be removed in version 0.23 since we've dropped support for Python 2.7. Please rely on the official version of six (https://pypi.org/project/six/).\n",
      "  \"(https://pypi.org/project/six/).\", DeprecationWarning)\n"
     ]
    }
   ],
   "source": [
    "import pandas as pd\n",
    "import numpy as np\n",
    "import matplotlib.pyplot as plt\n",
    "%matplotlib inline\n",
    "import seaborn as sns\n",
    "\n",
    "from sklearn.model_selection import train_test_split\n",
    "from sklearn.pipeline import Pipeline\n",
    "from sklearn.preprocessing import OneHotEncoder\n",
    "from sklearn.neighbors import KNeighborsClassifier\n",
    "from sklearn.preprocessing import StandardScaler\n",
    "from sklearn.model_selection import cross_val_score\n",
    "from sklearn.tree import DecisionTreeClassifier\n",
    "from sklearn.ensemble import BaggingRegressor, RandomForestRegressor, ExtraTreesRegressor\n",
    "from sklearn.ensemble import RandomForestClassifier, AdaBoostClassifier\n",
    "from six import StringIO\n",
    "from sklearn.linear_model import LogisticRegression\n",
    "from sklearn.metrics import precision_score, recall_score, accuracy_score, f1_score\n",
    "from imblearn.over_sampling import SMOTE"
   ]
  },
  {
   "cell_type": "code",
   "execution_count": 2,
   "metadata": {},
   "outputs": [
    {
     "name": "stdout",
     "output_type": "stream",
     "text": [
      "Requirement already satisfied: imblearn in /anaconda3/lib/python3.7/site-packages (0.0)\n",
      "Requirement already satisfied: imbalanced-learn in /anaconda3/lib/python3.7/site-packages (from imblearn) (0.4.3)\n",
      "Requirement already satisfied: scikit-learn>=0.20 in /anaconda3/lib/python3.7/site-packages (from imbalanced-learn->imblearn) (0.21.2)\n",
      "Requirement already satisfied: scipy>=0.13.3 in /anaconda3/lib/python3.7/site-packages (from imbalanced-learn->imblearn) (1.1.0)\n",
      "Requirement already satisfied: numpy>=1.8.2 in /anaconda3/lib/python3.7/site-packages (from imbalanced-learn->imblearn) (1.15.4)\n",
      "Requirement already satisfied: joblib>=0.11 in /anaconda3/lib/python3.7/site-packages (from scikit-learn>=0.20->imbalanced-learn->imblearn) (0.13.2)\n"
     ]
    }
   ],
   "source": [
    "!pip install imblearn"
   ]
  },
  {
   "cell_type": "code",
   "execution_count": 3,
   "metadata": {},
   "outputs": [],
   "source": [
    "from our_functions import display_acc_and_f1_score"
   ]
  },
  {
   "cell_type": "code",
   "execution_count": 4,
   "metadata": {},
   "outputs": [],
   "source": [
    "df = pd.read_csv('data/cleaned_data.csv')"
   ]
  },
  {
   "cell_type": "code",
   "execution_count": 5,
   "metadata": {},
   "outputs": [
    {
     "data": {
      "text/html": [
       "<div>\n",
       "<style scoped>\n",
       "    .dataframe tbody tr th:only-of-type {\n",
       "        vertical-align: middle;\n",
       "    }\n",
       "\n",
       "    .dataframe tbody tr th {\n",
       "        vertical-align: top;\n",
       "    }\n",
       "\n",
       "    .dataframe thead th {\n",
       "        text-align: right;\n",
       "    }\n",
       "</style>\n",
       "<table border=\"1\" class=\"dataframe\">\n",
       "  <thead>\n",
       "    <tr style=\"text-align: right;\">\n",
       "      <th></th>\n",
       "      <th>sample_pk</th>\n",
       "      <th>commod</th>\n",
       "      <th>commtype</th>\n",
       "      <th>lab</th>\n",
       "      <th>pestcode</th>\n",
       "      <th>lod</th>\n",
       "      <th>annotate</th>\n",
       "      <th>avg_detect</th>\n",
       "      <th>extract</th>\n",
       "      <th>determin</th>\n",
       "      <th>concentration</th>\n",
       "    </tr>\n",
       "  </thead>\n",
       "  <tbody>\n",
       "    <tr>\n",
       "      <th>0</th>\n",
       "      <td>239</td>\n",
       "      <td>AJ</td>\n",
       "      <td>RE</td>\n",
       "      <td>WA1</td>\n",
       "      <td>083</td>\n",
       "      <td>0.005</td>\n",
       "      <td>Q</td>\n",
       "      <td>O</td>\n",
       "      <td>805</td>\n",
       "      <td>35</td>\n",
       "      <td>80000.0</td>\n",
       "    </tr>\n",
       "    <tr>\n",
       "      <th>1</th>\n",
       "      <td>1183</td>\n",
       "      <td>BR</td>\n",
       "      <td>FR</td>\n",
       "      <td>FL1</td>\n",
       "      <td>AFU</td>\n",
       "      <td>0.010</td>\n",
       "      <td>V</td>\n",
       "      <td>O</td>\n",
       "      <td>805</td>\n",
       "      <td>52</td>\n",
       "      <td>110000.0</td>\n",
       "    </tr>\n",
       "    <tr>\n",
       "      <th>2</th>\n",
       "      <td>1196</td>\n",
       "      <td>BR</td>\n",
       "      <td>FR</td>\n",
       "      <td>FL1</td>\n",
       "      <td>AFU</td>\n",
       "      <td>0.010</td>\n",
       "      <td>V</td>\n",
       "      <td>O</td>\n",
       "      <td>805</td>\n",
       "      <td>52</td>\n",
       "      <td>130000.0</td>\n",
       "    </tr>\n",
       "    <tr>\n",
       "      <th>3</th>\n",
       "      <td>1230</td>\n",
       "      <td>BR</td>\n",
       "      <td>FR</td>\n",
       "      <td>FL1</td>\n",
       "      <td>144</td>\n",
       "      <td>0.005</td>\n",
       "      <td>V</td>\n",
       "      <td>O</td>\n",
       "      <td>805</td>\n",
       "      <td>35</td>\n",
       "      <td>350000.0</td>\n",
       "    </tr>\n",
       "    <tr>\n",
       "      <th>4</th>\n",
       "      <td>1269</td>\n",
       "      <td>BR</td>\n",
       "      <td>FR</td>\n",
       "      <td>FL1</td>\n",
       "      <td>180</td>\n",
       "      <td>0.010</td>\n",
       "      <td>V</td>\n",
       "      <td>O</td>\n",
       "      <td>805</td>\n",
       "      <td>52</td>\n",
       "      <td>260000.0</td>\n",
       "    </tr>\n",
       "  </tbody>\n",
       "</table>\n",
       "</div>"
      ],
      "text/plain": [
       "   sample_pk commod commtype  lab pestcode    lod annotate avg_detect  \\\n",
       "0        239     AJ       RE  WA1      083  0.005        Q          O   \n",
       "1       1183     BR       FR  FL1      AFU  0.010        V          O   \n",
       "2       1196     BR       FR  FL1      AFU  0.010        V          O   \n",
       "3       1230     BR       FR  FL1      144  0.005        V          O   \n",
       "4       1269     BR       FR  FL1      180  0.010        V          O   \n",
       "\n",
       "   extract  determin  concentration  \n",
       "0      805        35        80000.0  \n",
       "1      805        52       110000.0  \n",
       "2      805        52       130000.0  \n",
       "3      805        35       350000.0  \n",
       "4      805        52       260000.0  "
      ]
     },
     "execution_count": 5,
     "metadata": {},
     "output_type": "execute_result"
    }
   ],
   "source": [
    "df.head()"
   ]
  },
  {
   "cell_type": "code",
   "execution_count": 6,
   "metadata": {},
   "outputs": [
    {
     "name": "stdout",
     "output_type": "stream",
     "text": [
      "<class 'pandas.core.frame.DataFrame'>\n",
      "RangeIndex: 4887 entries, 0 to 4886\n",
      "Data columns (total 11 columns):\n",
      "sample_pk        4887 non-null int64\n",
      "commod           4887 non-null object\n",
      "commtype         4887 non-null object\n",
      "lab              4887 non-null object\n",
      "pestcode         4887 non-null object\n",
      "lod              4887 non-null float64\n",
      "annotate         4887 non-null object\n",
      "avg_detect       4887 non-null object\n",
      "extract          4887 non-null int64\n",
      "determin         4887 non-null int64\n",
      "concentration    4887 non-null float64\n",
      "dtypes: float64(2), int64(3), object(6)\n",
      "memory usage: 420.1+ KB\n"
     ]
    }
   ],
   "source": [
    "df.info()"
   ]
  },
  {
   "cell_type": "markdown",
   "metadata": {},
   "source": [
    "## Split data"
   ]
  },
  {
   "cell_type": "code",
   "execution_count": 53,
   "metadata": {},
   "outputs": [],
   "source": [
    "X = df.drop(['annotate'], axis=1)\n",
    "y = df.annotate"
   ]
  },
  {
   "cell_type": "code",
   "execution_count": 54,
   "metadata": {},
   "outputs": [],
   "source": [
    "X_train, X_test, y_train, y_test = train_test_split(X, y, test_size = 0.20, random_state=20)"
   ]
  },
  {
   "cell_type": "markdown",
   "metadata": {},
   "source": [
    "## One-hot-encode data. We'll categories so the two sets have matching columns."
   ]
  },
  {
   "cell_type": "code",
   "execution_count": 55,
   "metadata": {},
   "outputs": [],
   "source": [
    "categoricals = ['commod', 'commtype', 'lab', 'pestcode', 'avg_detect']"
   ]
  },
  {
   "cell_type": "code",
   "execution_count": 96,
   "metadata": {},
   "outputs": [
    {
     "data": {
      "text/plain": [
       "OneHotEncoder(categorical_features=None, categories='auto', drop=None,\n",
       "              dtype=<class 'numpy.float64'>, handle_unknown='ignore',\n",
       "              n_values=None, sparse=True)"
      ]
     },
     "execution_count": 96,
     "metadata": {},
     "output_type": "execute_result"
    }
   ],
   "source": [
    "encoder= OneHotEncoder(categories = 'auto', handle_unknown='ignore')\n",
    "encoder = encoder.fit(X[categoricals])\n",
    "encoder"
   ]
  },
  {
   "cell_type": "code",
   "execution_count": 107,
   "metadata": {},
   "outputs": [
    {
     "name": "stdout",
     "output_type": "stream",
     "text": [
      "<class 'pandas.core.frame.DataFrame'>\n",
      "RangeIndex: 3909 entries, 0 to 3908\n",
      "Columns: 184 entries, x0_AJ to x4_R\n",
      "dtypes: float64(184)\n",
      "memory usage: 5.5 MB\n"
     ]
    }
   ],
   "source": [
    "#transform and dataframe train set\n",
    "e_t = encoder.transform(X_train[categoricals])\n",
    "\n",
    "ohe_train = pd.DataFrame(e_t.toarray(), \n",
    "                  columns=encoder.get_feature_names())\n",
    "ohe_train.info()"
   ]
  },
  {
   "cell_type": "code",
   "execution_count": 109,
   "metadata": {},
   "outputs": [
    {
     "data": {
      "text/html": [
       "<div>\n",
       "<style scoped>\n",
       "    .dataframe tbody tr th:only-of-type {\n",
       "        vertical-align: middle;\n",
       "    }\n",
       "\n",
       "    .dataframe tbody tr th {\n",
       "        vertical-align: top;\n",
       "    }\n",
       "\n",
       "    .dataframe thead th {\n",
       "        text-align: right;\n",
       "    }\n",
       "</style>\n",
       "<table border=\"1\" class=\"dataframe\">\n",
       "  <thead>\n",
       "    <tr style=\"text-align: right;\">\n",
       "      <th></th>\n",
       "      <th>sample_pk</th>\n",
       "      <th>lod</th>\n",
       "      <th>extract</th>\n",
       "      <th>determin</th>\n",
       "      <th>concentration</th>\n",
       "      <th>x0_AJ</th>\n",
       "      <th>x0_BR</th>\n",
       "      <th>x0_BU</th>\n",
       "      <th>x0_CE</th>\n",
       "      <th>x0_CF</th>\n",
       "      <th>...</th>\n",
       "      <th>x3_B72</th>\n",
       "      <th>x3_B75</th>\n",
       "      <th>x3_B77</th>\n",
       "      <th>x3_B79</th>\n",
       "      <th>x3_B80</th>\n",
       "      <th>x3_B82</th>\n",
       "      <th>x3_B84</th>\n",
       "      <th>x3_B85</th>\n",
       "      <th>x4_O</th>\n",
       "      <th>x4_R</th>\n",
       "    </tr>\n",
       "  </thead>\n",
       "  <tbody>\n",
       "    <tr>\n",
       "      <th>3645</th>\n",
       "      <td>7174</td>\n",
       "      <td>0.003</td>\n",
       "      <td>805</td>\n",
       "      <td>52</td>\n",
       "      <td>5.000000e+04</td>\n",
       "      <td>0.0</td>\n",
       "      <td>0.0</td>\n",
       "      <td>0.0</td>\n",
       "      <td>0.0</td>\n",
       "      <td>0.0</td>\n",
       "      <td>...</td>\n",
       "      <td>0.0</td>\n",
       "      <td>0.0</td>\n",
       "      <td>0.0</td>\n",
       "      <td>0.0</td>\n",
       "      <td>0.0</td>\n",
       "      <td>0.0</td>\n",
       "      <td>0.0</td>\n",
       "      <td>0.0</td>\n",
       "      <td>1.0</td>\n",
       "      <td>0.0</td>\n",
       "    </tr>\n",
       "    <tr>\n",
       "      <th>4643</th>\n",
       "      <td>9886</td>\n",
       "      <td>30.000</td>\n",
       "      <td>811</td>\n",
       "      <td>52</td>\n",
       "      <td>5.000000e+14</td>\n",
       "      <td>NaN</td>\n",
       "      <td>NaN</td>\n",
       "      <td>NaN</td>\n",
       "      <td>NaN</td>\n",
       "      <td>NaN</td>\n",
       "      <td>...</td>\n",
       "      <td>NaN</td>\n",
       "      <td>NaN</td>\n",
       "      <td>NaN</td>\n",
       "      <td>NaN</td>\n",
       "      <td>NaN</td>\n",
       "      <td>NaN</td>\n",
       "      <td>NaN</td>\n",
       "      <td>NaN</td>\n",
       "      <td>NaN</td>\n",
       "      <td>NaN</td>\n",
       "    </tr>\n",
       "    <tr>\n",
       "      <th>3556</th>\n",
       "      <td>7108</td>\n",
       "      <td>0.001</td>\n",
       "      <td>805</td>\n",
       "      <td>52</td>\n",
       "      <td>2.000000e+04</td>\n",
       "      <td>0.0</td>\n",
       "      <td>0.0</td>\n",
       "      <td>1.0</td>\n",
       "      <td>0.0</td>\n",
       "      <td>0.0</td>\n",
       "      <td>...</td>\n",
       "      <td>0.0</td>\n",
       "      <td>0.0</td>\n",
       "      <td>0.0</td>\n",
       "      <td>0.0</td>\n",
       "      <td>0.0</td>\n",
       "      <td>0.0</td>\n",
       "      <td>0.0</td>\n",
       "      <td>0.0</td>\n",
       "      <td>1.0</td>\n",
       "      <td>0.0</td>\n",
       "    </tr>\n",
       "    <tr>\n",
       "      <th>3370</th>\n",
       "      <td>6959</td>\n",
       "      <td>0.008</td>\n",
       "      <td>805</td>\n",
       "      <td>52</td>\n",
       "      <td>1.300000e+05</td>\n",
       "      <td>0.0</td>\n",
       "      <td>0.0</td>\n",
       "      <td>1.0</td>\n",
       "      <td>0.0</td>\n",
       "      <td>0.0</td>\n",
       "      <td>...</td>\n",
       "      <td>0.0</td>\n",
       "      <td>0.0</td>\n",
       "      <td>0.0</td>\n",
       "      <td>0.0</td>\n",
       "      <td>0.0</td>\n",
       "      <td>0.0</td>\n",
       "      <td>0.0</td>\n",
       "      <td>0.0</td>\n",
       "      <td>1.0</td>\n",
       "      <td>0.0</td>\n",
       "    </tr>\n",
       "    <tr>\n",
       "      <th>4563</th>\n",
       "      <td>9840</td>\n",
       "      <td>0.003</td>\n",
       "      <td>805</td>\n",
       "      <td>52</td>\n",
       "      <td>5.000000e+04</td>\n",
       "      <td>NaN</td>\n",
       "      <td>NaN</td>\n",
       "      <td>NaN</td>\n",
       "      <td>NaN</td>\n",
       "      <td>NaN</td>\n",
       "      <td>...</td>\n",
       "      <td>NaN</td>\n",
       "      <td>NaN</td>\n",
       "      <td>NaN</td>\n",
       "      <td>NaN</td>\n",
       "      <td>NaN</td>\n",
       "      <td>NaN</td>\n",
       "      <td>NaN</td>\n",
       "      <td>NaN</td>\n",
       "      <td>NaN</td>\n",
       "      <td>NaN</td>\n",
       "    </tr>\n",
       "  </tbody>\n",
       "</table>\n",
       "<p>5 rows × 189 columns</p>\n",
       "</div>"
      ],
      "text/plain": [
       "      sample_pk     lod  extract  determin  concentration  x0_AJ  x0_BR  \\\n",
       "3645       7174   0.003      805        52   5.000000e+04    0.0    0.0   \n",
       "4643       9886  30.000      811        52   5.000000e+14    NaN    NaN   \n",
       "3556       7108   0.001      805        52   2.000000e+04    0.0    0.0   \n",
       "3370       6959   0.008      805        52   1.300000e+05    0.0    0.0   \n",
       "4563       9840   0.003      805        52   5.000000e+04    NaN    NaN   \n",
       "\n",
       "      x0_BU  x0_CE  x0_CF  ...   x3_B72  x3_B75  x3_B77  x3_B79  x3_B80  \\\n",
       "3645    0.0    0.0    0.0  ...      0.0     0.0     0.0     0.0     0.0   \n",
       "4643    NaN    NaN    NaN  ...      NaN     NaN     NaN     NaN     NaN   \n",
       "3556    1.0    0.0    0.0  ...      0.0     0.0     0.0     0.0     0.0   \n",
       "3370    1.0    0.0    0.0  ...      0.0     0.0     0.0     0.0     0.0   \n",
       "4563    NaN    NaN    NaN  ...      NaN     NaN     NaN     NaN     NaN   \n",
       "\n",
       "      x3_B82  x3_B84  x3_B85  x4_O  x4_R  \n",
       "3645     0.0     0.0     0.0   1.0   0.0  \n",
       "4643     NaN     NaN     NaN   NaN   NaN  \n",
       "3556     0.0     0.0     0.0   1.0   0.0  \n",
       "3370     0.0     0.0     0.0   1.0   0.0  \n",
       "4563     NaN     NaN     NaN   NaN   NaN  \n",
       "\n",
       "[5 rows x 189 columns]"
      ]
     },
     "execution_count": 109,
     "metadata": {},
     "output_type": "execute_result"
    }
   ],
   "source": [
    "#combine all variables\n",
    "enc_X_train = X_train.join(ohe_train).drop(categoricals, axis=1)\n",
    "enc_X_train.head()"
   ]
  },
  {
   "cell_type": "code",
   "execution_count": 115,
   "metadata": {},
   "outputs": [
    {
     "data": {
      "text/html": [
       "<div>\n",
       "<style scoped>\n",
       "    .dataframe tbody tr th:only-of-type {\n",
       "        vertical-align: middle;\n",
       "    }\n",
       "\n",
       "    .dataframe tbody tr th {\n",
       "        vertical-align: top;\n",
       "    }\n",
       "\n",
       "    .dataframe thead th {\n",
       "        text-align: right;\n",
       "    }\n",
       "</style>\n",
       "<table border=\"1\" class=\"dataframe\">\n",
       "  <thead>\n",
       "    <tr style=\"text-align: right;\">\n",
       "      <th></th>\n",
       "      <th>sample_pk</th>\n",
       "      <th>lod</th>\n",
       "      <th>extract</th>\n",
       "      <th>determin</th>\n",
       "      <th>concentration</th>\n",
       "      <th>x0_AJ</th>\n",
       "      <th>x0_BR</th>\n",
       "      <th>x0_BU</th>\n",
       "      <th>x0_CE</th>\n",
       "      <th>x0_CF</th>\n",
       "      <th>...</th>\n",
       "      <th>x3_B72</th>\n",
       "      <th>x3_B75</th>\n",
       "      <th>x3_B77</th>\n",
       "      <th>x3_B79</th>\n",
       "      <th>x3_B80</th>\n",
       "      <th>x3_B82</th>\n",
       "      <th>x3_B84</th>\n",
       "      <th>x3_B85</th>\n",
       "      <th>x4_O</th>\n",
       "      <th>x4_R</th>\n",
       "    </tr>\n",
       "  </thead>\n",
       "  <tbody>\n",
       "    <tr>\n",
       "      <th>3645</th>\n",
       "      <td>7174</td>\n",
       "      <td>0.003</td>\n",
       "      <td>805</td>\n",
       "      <td>52</td>\n",
       "      <td>5.000000e+04</td>\n",
       "      <td>0.0</td>\n",
       "      <td>0.0</td>\n",
       "      <td>0.0</td>\n",
       "      <td>0.0</td>\n",
       "      <td>0.0</td>\n",
       "      <td>...</td>\n",
       "      <td>0.0</td>\n",
       "      <td>0.0</td>\n",
       "      <td>0.0</td>\n",
       "      <td>0.0</td>\n",
       "      <td>0.0</td>\n",
       "      <td>0.0</td>\n",
       "      <td>0.0</td>\n",
       "      <td>0.0</td>\n",
       "      <td>1.0</td>\n",
       "      <td>0.0</td>\n",
       "    </tr>\n",
       "    <tr>\n",
       "      <th>4643</th>\n",
       "      <td>9886</td>\n",
       "      <td>30.000</td>\n",
       "      <td>811</td>\n",
       "      <td>52</td>\n",
       "      <td>5.000000e+14</td>\n",
       "      <td>0.0</td>\n",
       "      <td>0.0</td>\n",
       "      <td>0.0</td>\n",
       "      <td>0.0</td>\n",
       "      <td>0.0</td>\n",
       "      <td>...</td>\n",
       "      <td>0.0</td>\n",
       "      <td>0.0</td>\n",
       "      <td>0.0</td>\n",
       "      <td>0.0</td>\n",
       "      <td>0.0</td>\n",
       "      <td>0.0</td>\n",
       "      <td>0.0</td>\n",
       "      <td>0.0</td>\n",
       "      <td>0.0</td>\n",
       "      <td>0.0</td>\n",
       "    </tr>\n",
       "    <tr>\n",
       "      <th>3556</th>\n",
       "      <td>7108</td>\n",
       "      <td>0.001</td>\n",
       "      <td>805</td>\n",
       "      <td>52</td>\n",
       "      <td>2.000000e+04</td>\n",
       "      <td>0.0</td>\n",
       "      <td>0.0</td>\n",
       "      <td>1.0</td>\n",
       "      <td>0.0</td>\n",
       "      <td>0.0</td>\n",
       "      <td>...</td>\n",
       "      <td>0.0</td>\n",
       "      <td>0.0</td>\n",
       "      <td>0.0</td>\n",
       "      <td>0.0</td>\n",
       "      <td>0.0</td>\n",
       "      <td>0.0</td>\n",
       "      <td>0.0</td>\n",
       "      <td>0.0</td>\n",
       "      <td>1.0</td>\n",
       "      <td>0.0</td>\n",
       "    </tr>\n",
       "    <tr>\n",
       "      <th>3370</th>\n",
       "      <td>6959</td>\n",
       "      <td>0.008</td>\n",
       "      <td>805</td>\n",
       "      <td>52</td>\n",
       "      <td>1.300000e+05</td>\n",
       "      <td>0.0</td>\n",
       "      <td>0.0</td>\n",
       "      <td>1.0</td>\n",
       "      <td>0.0</td>\n",
       "      <td>0.0</td>\n",
       "      <td>...</td>\n",
       "      <td>0.0</td>\n",
       "      <td>0.0</td>\n",
       "      <td>0.0</td>\n",
       "      <td>0.0</td>\n",
       "      <td>0.0</td>\n",
       "      <td>0.0</td>\n",
       "      <td>0.0</td>\n",
       "      <td>0.0</td>\n",
       "      <td>1.0</td>\n",
       "      <td>0.0</td>\n",
       "    </tr>\n",
       "    <tr>\n",
       "      <th>4563</th>\n",
       "      <td>9840</td>\n",
       "      <td>0.003</td>\n",
       "      <td>805</td>\n",
       "      <td>52</td>\n",
       "      <td>5.000000e+04</td>\n",
       "      <td>0.0</td>\n",
       "      <td>0.0</td>\n",
       "      <td>0.0</td>\n",
       "      <td>0.0</td>\n",
       "      <td>0.0</td>\n",
       "      <td>...</td>\n",
       "      <td>0.0</td>\n",
       "      <td>0.0</td>\n",
       "      <td>0.0</td>\n",
       "      <td>0.0</td>\n",
       "      <td>0.0</td>\n",
       "      <td>0.0</td>\n",
       "      <td>0.0</td>\n",
       "      <td>0.0</td>\n",
       "      <td>0.0</td>\n",
       "      <td>0.0</td>\n",
       "    </tr>\n",
       "  </tbody>\n",
       "</table>\n",
       "<p>5 rows × 189 columns</p>\n",
       "</div>"
      ],
      "text/plain": [
       "      sample_pk     lod  extract  determin  concentration  x0_AJ  x0_BR  \\\n",
       "3645       7174   0.003      805        52   5.000000e+04    0.0    0.0   \n",
       "4643       9886  30.000      811        52   5.000000e+14    0.0    0.0   \n",
       "3556       7108   0.001      805        52   2.000000e+04    0.0    0.0   \n",
       "3370       6959   0.008      805        52   1.300000e+05    0.0    0.0   \n",
       "4563       9840   0.003      805        52   5.000000e+04    0.0    0.0   \n",
       "\n",
       "      x0_BU  x0_CE  x0_CF  ...   x3_B72  x3_B75  x3_B77  x3_B79  x3_B80  \\\n",
       "3645    0.0    0.0    0.0  ...      0.0     0.0     0.0     0.0     0.0   \n",
       "4643    0.0    0.0    0.0  ...      0.0     0.0     0.0     0.0     0.0   \n",
       "3556    1.0    0.0    0.0  ...      0.0     0.0     0.0     0.0     0.0   \n",
       "3370    1.0    0.0    0.0  ...      0.0     0.0     0.0     0.0     0.0   \n",
       "4563    0.0    0.0    0.0  ...      0.0     0.0     0.0     0.0     0.0   \n",
       "\n",
       "      x3_B82  x3_B84  x3_B85  x4_O  x4_R  \n",
       "3645     0.0     0.0     0.0   1.0   0.0  \n",
       "4643     0.0     0.0     0.0   0.0   0.0  \n",
       "3556     0.0     0.0     0.0   1.0   0.0  \n",
       "3370     0.0     0.0     0.0   1.0   0.0  \n",
       "4563     0.0     0.0     0.0   0.0   0.0  \n",
       "\n",
       "[5 rows x 189 columns]"
      ]
     },
     "execution_count": 115,
     "metadata": {},
     "output_type": "execute_result"
    }
   ],
   "source": [
    "#Fill nans for modeling\n",
    "enc_X_train.fillna(0, inplace=True)\n",
    "enc_X_train.head()"
   ]
  },
  {
   "cell_type": "code",
   "execution_count": 106,
   "metadata": {},
   "outputs": [
    {
     "name": "stdout",
     "output_type": "stream",
     "text": [
      "<class 'pandas.core.frame.DataFrame'>\n",
      "RangeIndex: 978 entries, 0 to 977\n",
      "Columns: 184 entries, x0_AJ to x4_R\n",
      "dtypes: float64(184)\n",
      "memory usage: 1.4 MB\n"
     ]
    }
   ],
   "source": [
    "#encode and dataframe our test data\n",
    "# don't forget we need to only fit to our training data, then transform it to both.\n",
    "e_test = encoder.transform(X_test[categoricals])\n",
    "ohe_test = pd.DataFrame(e_test.toarray(), \n",
    "                  columns=encoder.get_feature_names())\n",
    "ohe_test.info()"
   ]
  },
  {
   "cell_type": "code",
   "execution_count": 110,
   "metadata": {},
   "outputs": [
    {
     "data": {
      "text/html": [
       "<div>\n",
       "<style scoped>\n",
       "    .dataframe tbody tr th:only-of-type {\n",
       "        vertical-align: middle;\n",
       "    }\n",
       "\n",
       "    .dataframe tbody tr th {\n",
       "        vertical-align: top;\n",
       "    }\n",
       "\n",
       "    .dataframe thead th {\n",
       "        text-align: right;\n",
       "    }\n",
       "</style>\n",
       "<table border=\"1\" class=\"dataframe\">\n",
       "  <thead>\n",
       "    <tr style=\"text-align: right;\">\n",
       "      <th></th>\n",
       "      <th>sample_pk</th>\n",
       "      <th>lod</th>\n",
       "      <th>extract</th>\n",
       "      <th>determin</th>\n",
       "      <th>concentration</th>\n",
       "      <th>x0_AJ</th>\n",
       "      <th>x0_BR</th>\n",
       "      <th>x0_BU</th>\n",
       "      <th>x0_CE</th>\n",
       "      <th>x0_CF</th>\n",
       "      <th>...</th>\n",
       "      <th>x3_B72</th>\n",
       "      <th>x3_B75</th>\n",
       "      <th>x3_B77</th>\n",
       "      <th>x3_B79</th>\n",
       "      <th>x3_B80</th>\n",
       "      <th>x3_B82</th>\n",
       "      <th>x3_B84</th>\n",
       "      <th>x3_B85</th>\n",
       "      <th>x4_O</th>\n",
       "      <th>x4_R</th>\n",
       "    </tr>\n",
       "  </thead>\n",
       "  <tbody>\n",
       "    <tr>\n",
       "      <th>687</th>\n",
       "      <td>2202</td>\n",
       "      <td>0.0014</td>\n",
       "      <td>805</td>\n",
       "      <td>35</td>\n",
       "      <td>2.300000e+04</td>\n",
       "      <td>0.0</td>\n",
       "      <td>0.0</td>\n",
       "      <td>0.0</td>\n",
       "      <td>0.0</td>\n",
       "      <td>0.0</td>\n",
       "      <td>...</td>\n",
       "      <td>0.0</td>\n",
       "      <td>1.0</td>\n",
       "      <td>0.0</td>\n",
       "      <td>0.0</td>\n",
       "      <td>0.0</td>\n",
       "      <td>0.0</td>\n",
       "      <td>0.0</td>\n",
       "      <td>0.0</td>\n",
       "      <td>1.0</td>\n",
       "      <td>0.0</td>\n",
       "    </tr>\n",
       "    <tr>\n",
       "      <th>406</th>\n",
       "      <td>1968</td>\n",
       "      <td>0.0014</td>\n",
       "      <td>805</td>\n",
       "      <td>35</td>\n",
       "      <td>2.300000e+04</td>\n",
       "      <td>0.0</td>\n",
       "      <td>0.0</td>\n",
       "      <td>0.0</td>\n",
       "      <td>1.0</td>\n",
       "      <td>0.0</td>\n",
       "      <td>...</td>\n",
       "      <td>0.0</td>\n",
       "      <td>0.0</td>\n",
       "      <td>0.0</td>\n",
       "      <td>0.0</td>\n",
       "      <td>0.0</td>\n",
       "      <td>0.0</td>\n",
       "      <td>0.0</td>\n",
       "      <td>0.0</td>\n",
       "      <td>1.0</td>\n",
       "      <td>0.0</td>\n",
       "    </tr>\n",
       "    <tr>\n",
       "      <th>2173</th>\n",
       "      <td>3800</td>\n",
       "      <td>0.0150</td>\n",
       "      <td>805</td>\n",
       "      <td>52</td>\n",
       "      <td>2.500000e+05</td>\n",
       "      <td>0.0</td>\n",
       "      <td>0.0</td>\n",
       "      <td>1.0</td>\n",
       "      <td>0.0</td>\n",
       "      <td>0.0</td>\n",
       "      <td>...</td>\n",
       "      <td>0.0</td>\n",
       "      <td>0.0</td>\n",
       "      <td>0.0</td>\n",
       "      <td>0.0</td>\n",
       "      <td>0.0</td>\n",
       "      <td>0.0</td>\n",
       "      <td>0.0</td>\n",
       "      <td>0.0</td>\n",
       "      <td>1.0</td>\n",
       "      <td>0.0</td>\n",
       "    </tr>\n",
       "    <tr>\n",
       "      <th>4385</th>\n",
       "      <td>9683</td>\n",
       "      <td>0.2100</td>\n",
       "      <td>811</td>\n",
       "      <td>52</td>\n",
       "      <td>3.500000e+12</td>\n",
       "      <td>NaN</td>\n",
       "      <td>NaN</td>\n",
       "      <td>NaN</td>\n",
       "      <td>NaN</td>\n",
       "      <td>NaN</td>\n",
       "      <td>...</td>\n",
       "      <td>NaN</td>\n",
       "      <td>NaN</td>\n",
       "      <td>NaN</td>\n",
       "      <td>NaN</td>\n",
       "      <td>NaN</td>\n",
       "      <td>NaN</td>\n",
       "      <td>NaN</td>\n",
       "      <td>NaN</td>\n",
       "      <td>NaN</td>\n",
       "      <td>NaN</td>\n",
       "    </tr>\n",
       "    <tr>\n",
       "      <th>4823</th>\n",
       "      <td>9916</td>\n",
       "      <td>0.6100</td>\n",
       "      <td>811</td>\n",
       "      <td>52</td>\n",
       "      <td>1.020000e+13</td>\n",
       "      <td>NaN</td>\n",
       "      <td>NaN</td>\n",
       "      <td>NaN</td>\n",
       "      <td>NaN</td>\n",
       "      <td>NaN</td>\n",
       "      <td>...</td>\n",
       "      <td>NaN</td>\n",
       "      <td>NaN</td>\n",
       "      <td>NaN</td>\n",
       "      <td>NaN</td>\n",
       "      <td>NaN</td>\n",
       "      <td>NaN</td>\n",
       "      <td>NaN</td>\n",
       "      <td>NaN</td>\n",
       "      <td>NaN</td>\n",
       "      <td>NaN</td>\n",
       "    </tr>\n",
       "  </tbody>\n",
       "</table>\n",
       "<p>5 rows × 189 columns</p>\n",
       "</div>"
      ],
      "text/plain": [
       "      sample_pk     lod  extract  determin  concentration  x0_AJ  x0_BR  \\\n",
       "687        2202  0.0014      805        35   2.300000e+04    0.0    0.0   \n",
       "406        1968  0.0014      805        35   2.300000e+04    0.0    0.0   \n",
       "2173       3800  0.0150      805        52   2.500000e+05    0.0    0.0   \n",
       "4385       9683  0.2100      811        52   3.500000e+12    NaN    NaN   \n",
       "4823       9916  0.6100      811        52   1.020000e+13    NaN    NaN   \n",
       "\n",
       "      x0_BU  x0_CE  x0_CF  ...   x3_B72  x3_B75  x3_B77  x3_B79  x3_B80  \\\n",
       "687     0.0    0.0    0.0  ...      0.0     1.0     0.0     0.0     0.0   \n",
       "406     0.0    1.0    0.0  ...      0.0     0.0     0.0     0.0     0.0   \n",
       "2173    1.0    0.0    0.0  ...      0.0     0.0     0.0     0.0     0.0   \n",
       "4385    NaN    NaN    NaN  ...      NaN     NaN     NaN     NaN     NaN   \n",
       "4823    NaN    NaN    NaN  ...      NaN     NaN     NaN     NaN     NaN   \n",
       "\n",
       "      x3_B82  x3_B84  x3_B85  x4_O  x4_R  \n",
       "687      0.0     0.0     0.0   1.0   0.0  \n",
       "406      0.0     0.0     0.0   1.0   0.0  \n",
       "2173     0.0     0.0     0.0   1.0   0.0  \n",
       "4385     NaN     NaN     NaN   NaN   NaN  \n",
       "4823     NaN     NaN     NaN   NaN   NaN  \n",
       "\n",
       "[5 rows x 189 columns]"
      ]
     },
     "execution_count": 110,
     "metadata": {},
     "output_type": "execute_result"
    }
   ],
   "source": [
    "#combine all variables\n",
    "enc_X_test = X_test.join(ohe_train).drop(categoricals, axis=1)\n",
    "enc_X_test.head()"
   ]
  },
  {
   "cell_type": "code",
   "execution_count": 116,
   "metadata": {},
   "outputs": [
    {
     "data": {
      "text/html": [
       "<div>\n",
       "<style scoped>\n",
       "    .dataframe tbody tr th:only-of-type {\n",
       "        vertical-align: middle;\n",
       "    }\n",
       "\n",
       "    .dataframe tbody tr th {\n",
       "        vertical-align: top;\n",
       "    }\n",
       "\n",
       "    .dataframe thead th {\n",
       "        text-align: right;\n",
       "    }\n",
       "</style>\n",
       "<table border=\"1\" class=\"dataframe\">\n",
       "  <thead>\n",
       "    <tr style=\"text-align: right;\">\n",
       "      <th></th>\n",
       "      <th>sample_pk</th>\n",
       "      <th>lod</th>\n",
       "      <th>extract</th>\n",
       "      <th>determin</th>\n",
       "      <th>concentration</th>\n",
       "      <th>x0_AJ</th>\n",
       "      <th>x0_BR</th>\n",
       "      <th>x0_BU</th>\n",
       "      <th>x0_CE</th>\n",
       "      <th>x0_CF</th>\n",
       "      <th>...</th>\n",
       "      <th>x3_B72</th>\n",
       "      <th>x3_B75</th>\n",
       "      <th>x3_B77</th>\n",
       "      <th>x3_B79</th>\n",
       "      <th>x3_B80</th>\n",
       "      <th>x3_B82</th>\n",
       "      <th>x3_B84</th>\n",
       "      <th>x3_B85</th>\n",
       "      <th>x4_O</th>\n",
       "      <th>x4_R</th>\n",
       "    </tr>\n",
       "  </thead>\n",
       "  <tbody>\n",
       "    <tr>\n",
       "      <th>687</th>\n",
       "      <td>2202</td>\n",
       "      <td>0.0014</td>\n",
       "      <td>805</td>\n",
       "      <td>35</td>\n",
       "      <td>2.300000e+04</td>\n",
       "      <td>0.0</td>\n",
       "      <td>0.0</td>\n",
       "      <td>0.0</td>\n",
       "      <td>0.0</td>\n",
       "      <td>0.0</td>\n",
       "      <td>...</td>\n",
       "      <td>0.0</td>\n",
       "      <td>1.0</td>\n",
       "      <td>0.0</td>\n",
       "      <td>0.0</td>\n",
       "      <td>0.0</td>\n",
       "      <td>0.0</td>\n",
       "      <td>0.0</td>\n",
       "      <td>0.0</td>\n",
       "      <td>1.0</td>\n",
       "      <td>0.0</td>\n",
       "    </tr>\n",
       "    <tr>\n",
       "      <th>406</th>\n",
       "      <td>1968</td>\n",
       "      <td>0.0014</td>\n",
       "      <td>805</td>\n",
       "      <td>35</td>\n",
       "      <td>2.300000e+04</td>\n",
       "      <td>0.0</td>\n",
       "      <td>0.0</td>\n",
       "      <td>0.0</td>\n",
       "      <td>1.0</td>\n",
       "      <td>0.0</td>\n",
       "      <td>...</td>\n",
       "      <td>0.0</td>\n",
       "      <td>0.0</td>\n",
       "      <td>0.0</td>\n",
       "      <td>0.0</td>\n",
       "      <td>0.0</td>\n",
       "      <td>0.0</td>\n",
       "      <td>0.0</td>\n",
       "      <td>0.0</td>\n",
       "      <td>1.0</td>\n",
       "      <td>0.0</td>\n",
       "    </tr>\n",
       "    <tr>\n",
       "      <th>2173</th>\n",
       "      <td>3800</td>\n",
       "      <td>0.0150</td>\n",
       "      <td>805</td>\n",
       "      <td>52</td>\n",
       "      <td>2.500000e+05</td>\n",
       "      <td>0.0</td>\n",
       "      <td>0.0</td>\n",
       "      <td>1.0</td>\n",
       "      <td>0.0</td>\n",
       "      <td>0.0</td>\n",
       "      <td>...</td>\n",
       "      <td>0.0</td>\n",
       "      <td>0.0</td>\n",
       "      <td>0.0</td>\n",
       "      <td>0.0</td>\n",
       "      <td>0.0</td>\n",
       "      <td>0.0</td>\n",
       "      <td>0.0</td>\n",
       "      <td>0.0</td>\n",
       "      <td>1.0</td>\n",
       "      <td>0.0</td>\n",
       "    </tr>\n",
       "    <tr>\n",
       "      <th>4385</th>\n",
       "      <td>9683</td>\n",
       "      <td>0.2100</td>\n",
       "      <td>811</td>\n",
       "      <td>52</td>\n",
       "      <td>3.500000e+12</td>\n",
       "      <td>0.0</td>\n",
       "      <td>0.0</td>\n",
       "      <td>0.0</td>\n",
       "      <td>0.0</td>\n",
       "      <td>0.0</td>\n",
       "      <td>...</td>\n",
       "      <td>0.0</td>\n",
       "      <td>0.0</td>\n",
       "      <td>0.0</td>\n",
       "      <td>0.0</td>\n",
       "      <td>0.0</td>\n",
       "      <td>0.0</td>\n",
       "      <td>0.0</td>\n",
       "      <td>0.0</td>\n",
       "      <td>0.0</td>\n",
       "      <td>0.0</td>\n",
       "    </tr>\n",
       "    <tr>\n",
       "      <th>4823</th>\n",
       "      <td>9916</td>\n",
       "      <td>0.6100</td>\n",
       "      <td>811</td>\n",
       "      <td>52</td>\n",
       "      <td>1.020000e+13</td>\n",
       "      <td>0.0</td>\n",
       "      <td>0.0</td>\n",
       "      <td>0.0</td>\n",
       "      <td>0.0</td>\n",
       "      <td>0.0</td>\n",
       "      <td>...</td>\n",
       "      <td>0.0</td>\n",
       "      <td>0.0</td>\n",
       "      <td>0.0</td>\n",
       "      <td>0.0</td>\n",
       "      <td>0.0</td>\n",
       "      <td>0.0</td>\n",
       "      <td>0.0</td>\n",
       "      <td>0.0</td>\n",
       "      <td>0.0</td>\n",
       "      <td>0.0</td>\n",
       "    </tr>\n",
       "  </tbody>\n",
       "</table>\n",
       "<p>5 rows × 189 columns</p>\n",
       "</div>"
      ],
      "text/plain": [
       "      sample_pk     lod  extract  determin  concentration  x0_AJ  x0_BR  \\\n",
       "687        2202  0.0014      805        35   2.300000e+04    0.0    0.0   \n",
       "406        1968  0.0014      805        35   2.300000e+04    0.0    0.0   \n",
       "2173       3800  0.0150      805        52   2.500000e+05    0.0    0.0   \n",
       "4385       9683  0.2100      811        52   3.500000e+12    0.0    0.0   \n",
       "4823       9916  0.6100      811        52   1.020000e+13    0.0    0.0   \n",
       "\n",
       "      x0_BU  x0_CE  x0_CF  ...   x3_B72  x3_B75  x3_B77  x3_B79  x3_B80  \\\n",
       "687     0.0    0.0    0.0  ...      0.0     1.0     0.0     0.0     0.0   \n",
       "406     0.0    1.0    0.0  ...      0.0     0.0     0.0     0.0     0.0   \n",
       "2173    1.0    0.0    0.0  ...      0.0     0.0     0.0     0.0     0.0   \n",
       "4385    0.0    0.0    0.0  ...      0.0     0.0     0.0     0.0     0.0   \n",
       "4823    0.0    0.0    0.0  ...      0.0     0.0     0.0     0.0     0.0   \n",
       "\n",
       "      x3_B82  x3_B84  x3_B85  x4_O  x4_R  \n",
       "687      0.0     0.0     0.0   1.0   0.0  \n",
       "406      0.0     0.0     0.0   1.0   0.0  \n",
       "2173     0.0     0.0     0.0   1.0   0.0  \n",
       "4385     0.0     0.0     0.0   0.0   0.0  \n",
       "4823     0.0     0.0     0.0   0.0   0.0  \n",
       "\n",
       "[5 rows x 189 columns]"
      ]
     },
     "execution_count": 116,
     "metadata": {},
     "output_type": "execute_result"
    }
   ],
   "source": [
    "#Fill nans for modeling\n",
    "enc_X_test.fillna(0, inplace=True)\n",
    "enc_X_test.head()"
   ]
  },
  {
   "cell_type": "markdown",
   "metadata": {},
   "source": [
    "## Nearest neighbors model"
   ]
  },
  {
   "cell_type": "code",
   "execution_count": 117,
   "metadata": {},
   "outputs": [
    {
     "data": {
      "text/plain": [
       "KNeighborsClassifier(algorithm='auto', leaf_size=30, metric='minkowski',\n",
       "                     metric_params=None, n_jobs=None, n_neighbors=5, p=2,\n",
       "                     weights='uniform')"
      ]
     },
     "execution_count": 117,
     "metadata": {},
     "output_type": "execute_result"
    }
   ],
   "source": [
    "knc = KNeighborsClassifier()\n",
    "knc.fit(enc_X_train, y_train)"
   ]
  },
  {
   "cell_type": "code",
   "execution_count": 118,
   "metadata": {},
   "outputs": [],
   "source": [
    "k_preds = knc.predict(enc_X_test)"
   ]
  },
  {
   "cell_type": "code",
   "execution_count": 20,
   "metadata": {},
   "outputs": [
    {
     "data": {
      "text/plain": [
       "(array(['Q', 'QV', 'V', 'X'], dtype=object), array([951,   7,  17,   3]))"
      ]
     },
     "execution_count": 20,
     "metadata": {},
     "output_type": "execute_result"
    }
   ],
   "source": [
    "np.unique(k_preds, return_counts=True)"
   ]
  },
  {
   "cell_type": "code",
   "execution_count": 119,
   "metadata": {},
   "outputs": [
    {
     "data": {
      "text/plain": [
       "0.9519427402862985"
      ]
     },
     "execution_count": 119,
     "metadata": {},
     "output_type": "execute_result"
    }
   ],
   "source": [
    "knc.score(enc_X_test, y_test)"
   ]
  },
  {
   "cell_type": "code",
   "execution_count": null,
   "metadata": {},
   "outputs": [],
   "source": [
    "knc.predict_proba()"
   ]
  },
  {
   "cell_type": "markdown",
   "metadata": {},
   "source": [
    "## Logistic regression model"
   ]
  },
  {
   "cell_type": "code",
   "execution_count": 22,
   "metadata": {},
   "outputs": [],
   "source": [
    "import statsmodels.api as sm"
   ]
  },
  {
   "cell_type": "code",
   "execution_count": 23,
   "metadata": {},
   "outputs": [],
   "source": [
    "from sklearn.linear_model import LogisticRegression"
   ]
  },
  {
   "cell_type": "code",
   "execution_count": 24,
   "metadata": {},
   "outputs": [
    {
     "data": {
      "text/plain": [
       "LogisticRegression(C=1.0, class_weight=None, dual=False, fit_intercept=True,\n",
       "                   intercept_scaling=1, l1_ratio=None, max_iter=100,\n",
       "                   multi_class='multinomial', n_jobs=None, penalty='l2',\n",
       "                   random_state=None, solver='lbfgs', tol=0.0001, verbose=0,\n",
       "                   warm_start=False)"
      ]
     },
     "execution_count": 24,
     "metadata": {},
     "output_type": "execute_result"
    }
   ],
   "source": [
    "mul_r = LogisticRegression(multi_class='multinomial', solver='lbfgs')\n",
    "mul_r.fit(enc_X_train, y_train)"
   ]
  },
  {
   "cell_type": "code",
   "execution_count": 25,
   "metadata": {},
   "outputs": [
    {
     "data": {
      "text/plain": [
       "0.9294478527607362"
      ]
     },
     "execution_count": 25,
     "metadata": {},
     "output_type": "execute_result"
    }
   ],
   "source": [
    "mul_r.score(enc_X_test, y_test)"
   ]
  },
  {
   "cell_type": "code",
   "execution_count": 26,
   "metadata": {},
   "outputs": [
    {
     "data": {
      "text/plain": [
       "0.9270913277052955"
      ]
     },
     "execution_count": 26,
     "metadata": {},
     "output_type": "execute_result"
    }
   ],
   "source": [
    "mul_r.score(enc_X_train, y_train)"
   ]
  },
  {
   "cell_type": "code",
   "execution_count": 102,
   "metadata": {},
   "outputs": [
    {
     "ename": "TypeError",
     "evalue": "predict_proba() takes 2 positional arguments but 3 were given",
     "output_type": "error",
     "traceback": [
      "\u001b[0;31m---------------------------------------------------------------------------\u001b[0m",
      "\u001b[0;31mTypeError\u001b[0m                                 Traceback (most recent call last)",
      "\u001b[0;32m<ipython-input-102-1b0136e2f7ab>\u001b[0m in \u001b[0;36m<module>\u001b[0;34m\u001b[0m\n\u001b[1;32m      1\u001b[0m \u001b[0;31m#bteer metric\u001b[0m\u001b[0;34m\u001b[0m\u001b[0;34m\u001b[0m\u001b[0;34m\u001b[0m\u001b[0m\n\u001b[0;32m----> 2\u001b[0;31m \u001b[0mmul_r\u001b[0m\u001b[0;34m.\u001b[0m\u001b[0mpredict_proba\u001b[0m\u001b[0;34m(\u001b[0m\u001b[0menc_X_train\u001b[0m\u001b[0;34m,\u001b[0m \u001b[0my_train\u001b[0m\u001b[0;34m)\u001b[0m\u001b[0;34m\u001b[0m\u001b[0;34m\u001b[0m\u001b[0m\n\u001b[0m",
      "\u001b[0;31mTypeError\u001b[0m: predict_proba() takes 2 positional arguments but 3 were given"
     ]
    }
   ],
   "source": [
    "#better metric\n",
    "mul_r.predict_proba(enc_X_train, y_train)"
   ]
  },
  {
   "cell_type": "markdown",
   "metadata": {},
   "source": [
    "It looks like our target variable has an abnormal distribution."
   ]
  },
  {
   "cell_type": "code",
   "execution_count": 27,
   "metadata": {},
   "outputs": [
    {
     "data": {
      "text/plain": [
       "<matplotlib.axes._subplots.AxesSubplot at 0x1c231b8dd8>"
      ]
     },
     "execution_count": 27,
     "metadata": {},
     "output_type": "execute_result"
    },
    {
     "data": {
      "image/png": "[encoded data removed]",
      "text/plain": [
       "<Figure size 432x288 with 1 Axes>"
      ]
     },
     "metadata": {
      "needs_background": "light"
     },
     "output_type": "display_data"
    }
   ],
   "source": [
    "sns.countplot(x=df['annotate'], data=df)"
   ]
  },
  {
   "cell_type": "markdown",
   "metadata": {},
   "source": [
    "We'll resample to improve target representation."
   ]
  },
  {
   "cell_type": "code",
   "execution_count": 28,
   "metadata": {},
   "outputs": [],
   "source": [
    "smote = SMOTE('not majority')\n",
    "X_smote, y_smote = smote.fit_resample(enc_X_train, y_train)"
   ]
  },
  {
   "cell_type": "code",
   "execution_count": 29,
   "metadata": {},
   "outputs": [
    {
     "data": {
      "text/plain": [
       "(array(['Q', 'QV', 'V', 'X'], dtype=object), array([3624, 3624, 3624, 3624]))"
      ]
     },
     "execution_count": 29,
     "metadata": {},
     "output_type": "execute_result"
    }
   ],
   "source": [
    "np.unique(y_smote, return_counts=True)"
   ]
  },
  {
   "cell_type": "markdown",
   "metadata": {},
   "source": [
    "There's an even distribution, so now we'll train our models on the SMOTE data."
   ]
  },
  {
   "cell_type": "code",
   "execution_count": 30,
   "metadata": {},
   "outputs": [
    {
     "data": {
      "text/plain": [
       "KNeighborsClassifier(algorithm='auto', leaf_size=30, metric='minkowski',\n",
       "                     metric_params=None, n_jobs=None, n_neighbors=5, p=2,\n",
       "                     weights='uniform')"
      ]
     },
     "execution_count": 30,
     "metadata": {},
     "output_type": "execute_result"
    }
   ],
   "source": [
    "knc = KNeighborsClassifier()\n",
    "knc.fit(X_smote, y_smote)"
   ]
  },
  {
   "cell_type": "code",
   "execution_count": 31,
   "metadata": {},
   "outputs": [
    {
     "data": {
      "text/plain": [
       "0.8844580777096115"
      ]
     },
     "execution_count": 31,
     "metadata": {},
     "output_type": "execute_result"
    }
   ],
   "source": [
    "knc.score(enc_X_test, y_test)"
   ]
  },
  {
   "cell_type": "markdown",
   "metadata": {},
   "source": [
    "0.873 is still quite high. "
   ]
  },
  {
   "cell_type": "code",
   "execution_count": 32,
   "metadata": {},
   "outputs": [
    {
     "data": {
      "text/plain": [
       "LogisticRegression(C=1.0, class_weight=None, dual=False, fit_intercept=True,\n",
       "                   intercept_scaling=1, l1_ratio=None, max_iter=100,\n",
       "                   multi_class='multinomial', n_jobs=None, penalty='l2',\n",
       "                   random_state=None, solver='lbfgs', tol=0.0001, verbose=0,\n",
       "                   warm_start=False)"
      ]
     },
     "execution_count": 32,
     "metadata": {},
     "output_type": "execute_result"
    }
   ],
   "source": [
    "mul_r = LogisticRegression(multi_class='multinomial', solver='lbfgs')\n",
    "mul_r.fit(X_smote, y_smote)"
   ]
  },
  {
   "cell_type": "code",
   "execution_count": 34,
   "metadata": {},
   "outputs": [
    {
     "data": {
      "text/plain": [
       "0.25"
      ]
     },
     "execution_count": 34,
     "metadata": {},
     "output_type": "execute_result"
    }
   ],
   "source": [
    "mul_r.score(X_smote, y_smote)"
   ]
  },
  {
   "cell_type": "code",
   "execution_count": null,
   "metadata": {},
   "outputs": [],
   "source": []
  }
 ],
 "metadata": {
  "kernelspec": {
   "display_name": "Python [conda env:root]",
   "language": "python",
   "name": "conda-root-py"
  },
  "language_info": {
   "codemirror_mode": {
    "name": "ipython",
    "version": 3
   },
   "file_extension": ".py",
   "mimetype": "text/x-python",
   "name": "python",
   "nbconvert_exporter": "python",
   "pygments_lexer": "ipython3",
   "version": "3.7.1"
  }
 },
 "nbformat": 4,
 "nbformat_minor": 2
}

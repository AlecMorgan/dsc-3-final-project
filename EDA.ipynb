{
 "cells": [
  {
   "cell_type": "markdown",
   "metadata": {},
   "source": [
    "# Data Understanding\n",
    "\n"
   ]
  },
  {
   "cell_type": "code",
   "execution_count": 1,
   "metadata": {},
   "outputs": [],
   "source": [
    "import pandas as pd\n",
    "import numpy as np\n",
    "import matplotlib.pyplot as plt\n",
    "%matplotlib inline\n",
    "import sqlalchemy\n",
    "import psycopg2\n",
    "from sklearn.model_selection import train_test_split"
   ]
  },
  {
   "cell_type": "code",
   "execution_count": 2,
   "metadata": {},
   "outputs": [
    {
     "data": {
      "text/plain": [
       "['resultsdata13', 'sampledata13']"
      ]
     },
     "execution_count": 2,
     "metadata": {},
     "output_type": "execute_result"
    }
   ],
   "source": [
    "engine = sqlalchemy.engine.create_engine('sqlite:///./data/database.sqlite')\n",
    "engine.table_names()"
   ]
  },
  {
   "cell_type": "code",
   "execution_count": 3,
   "metadata": {},
   "outputs": [],
   "source": [
    "con = engine.connect()"
   ]
  },
  {
   "cell_type": "code",
   "execution_count": 4,
   "metadata": {},
   "outputs": [
    {
     "data": {
      "text/plain": [
       "['sample_pk',\n",
       " 'state',\n",
       " 'year',\n",
       " 'month',\n",
       " 'day',\n",
       " 'site',\n",
       " 'commod',\n",
       " 'source_id',\n",
       " 'variety',\n",
       " 'origin',\n",
       " 'country',\n",
       " 'disttype',\n",
       " 'commtype',\n",
       " 'claim',\n",
       " 'quantity',\n",
       " 'growst',\n",
       " 'packst',\n",
       " 'distst']"
      ]
     },
     "execution_count": 4,
     "metadata": {},
     "output_type": "execute_result"
    }
   ],
   "source": [
    "query = 'SELECT * FROM sampledata13;'\n",
    "result = con.execute(query)\n",
    "result.keys()"
   ]
  },
  {
   "cell_type": "code",
   "execution_count": 5,
   "metadata": {},
   "outputs": [
    {
     "name": "stdout",
     "output_type": "stream",
     "text": [
      "Sample_Pk: 1\n",
      "State: CA\n",
      "Year: 13\n",
      "Month: 01\n",
      "Day: 22\n",
      "Site: 0004\n",
      "Commod: AJ\n",
      "Source_Id: P\n",
      "Variety: Apple Juice\n",
      "Origin: 2\n",
      "Country: 150\n",
      "Disttype: R\n",
      "Commtype: RE\n",
      "Claim: PO\n",
      "Quantity: \n",
      "Growst: \n",
      "Packst: \n",
      "Distst: IL\n",
      "\n"
     ]
    }
   ],
   "source": [
    "for k, v in zip(result.keys(), result.first()):\n",
    "    print(f'{k.title()}: {v}')"
   ]
  },
  {
   "cell_type": "code",
   "execution_count": 6,
   "metadata": {},
   "outputs": [],
   "source": [
    "result = con.execute('SELECT * FROM sampledata13')\n",
    "sample = pd.DataFrame(data=result.fetchall(), columns=result.keys())"
   ]
  },
  {
   "cell_type": "code",
   "execution_count": 7,
   "metadata": {},
   "outputs": [
    {
     "data": {
      "text/html": [
       "<div>\n",
       "<style scoped>\n",
       "    .dataframe tbody tr th:only-of-type {\n",
       "        vertical-align: middle;\n",
       "    }\n",
       "\n",
       "    .dataframe tbody tr th {\n",
       "        vertical-align: top;\n",
       "    }\n",
       "\n",
       "    .dataframe thead th {\n",
       "        text-align: right;\n",
       "    }\n",
       "</style>\n",
       "<table border=\"1\" class=\"dataframe\">\n",
       "  <thead>\n",
       "    <tr style=\"text-align: right;\">\n",
       "      <th></th>\n",
       "      <th>sample_pk</th>\n",
       "      <th>state</th>\n",
       "      <th>year</th>\n",
       "      <th>month</th>\n",
       "      <th>day</th>\n",
       "      <th>site</th>\n",
       "      <th>commod</th>\n",
       "      <th>source_id</th>\n",
       "      <th>variety</th>\n",
       "      <th>origin</th>\n",
       "      <th>country</th>\n",
       "      <th>disttype</th>\n",
       "      <th>commtype</th>\n",
       "      <th>claim</th>\n",
       "      <th>quantity</th>\n",
       "      <th>growst</th>\n",
       "      <th>packst</th>\n",
       "      <th>distst</th>\n",
       "    </tr>\n",
       "  </thead>\n",
       "  <tbody>\n",
       "    <tr>\n",
       "      <th>0</th>\n",
       "      <td>1</td>\n",
       "      <td>CA</td>\n",
       "      <td>13</td>\n",
       "      <td>01</td>\n",
       "      <td>22</td>\n",
       "      <td>0004</td>\n",
       "      <td>AJ</td>\n",
       "      <td>P</td>\n",
       "      <td>Apple Juice</td>\n",
       "      <td>2</td>\n",
       "      <td>150</td>\n",
       "      <td>R</td>\n",
       "      <td>RE</td>\n",
       "      <td>PO</td>\n",
       "      <td></td>\n",
       "      <td></td>\n",
       "      <td></td>\n",
       "      <td>IL\\r\\n</td>\n",
       "    </tr>\n",
       "    <tr>\n",
       "      <th>1</th>\n",
       "      <td>2</td>\n",
       "      <td>CA</td>\n",
       "      <td>13</td>\n",
       "      <td>01</td>\n",
       "      <td>22</td>\n",
       "      <td>0150</td>\n",
       "      <td>AJ</td>\n",
       "      <td>P</td>\n",
       "      <td>N/A</td>\n",
       "      <td>1</td>\n",
       "      <td></td>\n",
       "      <td>R</td>\n",
       "      <td>RE</td>\n",
       "      <td>NC</td>\n",
       "      <td></td>\n",
       "      <td></td>\n",
       "      <td></td>\n",
       "      <td>CA\\r\\n</td>\n",
       "    </tr>\n",
       "    <tr>\n",
       "      <th>2</th>\n",
       "      <td>3</td>\n",
       "      <td>CA</td>\n",
       "      <td>13</td>\n",
       "      <td>01</td>\n",
       "      <td>22</td>\n",
       "      <td>0151</td>\n",
       "      <td>AJ</td>\n",
       "      <td>P</td>\n",
       "      <td>Unknown</td>\n",
       "      <td>2</td>\n",
       "      <td>M68</td>\n",
       "      <td>R</td>\n",
       "      <td>RE</td>\n",
       "      <td>NC</td>\n",
       "      <td></td>\n",
       "      <td></td>\n",
       "      <td></td>\n",
       "      <td>CA\\r\\n</td>\n",
       "    </tr>\n",
       "    <tr>\n",
       "      <th>3</th>\n",
       "      <td>4</td>\n",
       "      <td>CA</td>\n",
       "      <td>13</td>\n",
       "      <td>01</td>\n",
       "      <td>22</td>\n",
       "      <td>0273</td>\n",
       "      <td>AJ</td>\n",
       "      <td>P</td>\n",
       "      <td>Apple Juice</td>\n",
       "      <td>2</td>\n",
       "      <td>MH8</td>\n",
       "      <td>R</td>\n",
       "      <td>RE</td>\n",
       "      <td>NC</td>\n",
       "      <td></td>\n",
       "      <td></td>\n",
       "      <td></td>\n",
       "      <td>CA\\r\\n</td>\n",
       "    </tr>\n",
       "    <tr>\n",
       "      <th>4</th>\n",
       "      <td>5</td>\n",
       "      <td>CA</td>\n",
       "      <td>13</td>\n",
       "      <td>01</td>\n",
       "      <td>22</td>\n",
       "      <td>0328</td>\n",
       "      <td>AJ</td>\n",
       "      <td>P</td>\n",
       "      <td>N/A</td>\n",
       "      <td>1</td>\n",
       "      <td></td>\n",
       "      <td>R</td>\n",
       "      <td>RE</td>\n",
       "      <td>NC</td>\n",
       "      <td></td>\n",
       "      <td></td>\n",
       "      <td></td>\n",
       "      <td>CA\\r\\n</td>\n",
       "    </tr>\n",
       "  </tbody>\n",
       "</table>\n",
       "</div>"
      ],
      "text/plain": [
       "   sample_pk state year month day  site commod source_id      variety origin  \\\n",
       "0          1    CA   13    01  22  0004     AJ         P  Apple Juice      2   \n",
       "1          2    CA   13    01  22  0150     AJ         P          N/A      1   \n",
       "2          3    CA   13    01  22  0151     AJ         P      Unknown      2   \n",
       "3          4    CA   13    01  22  0273     AJ         P  Apple Juice      2   \n",
       "4          5    CA   13    01  22  0328     AJ         P          N/A      1   \n",
       "\n",
       "  country disttype commtype claim quantity growst packst  distst  \n",
       "0     150        R       RE    PO                         IL\\r\\n  \n",
       "1                R       RE    NC                         CA\\r\\n  \n",
       "2     M68        R       RE    NC                         CA\\r\\n  \n",
       "3     MH8        R       RE    NC                         CA\\r\\n  \n",
       "4                R       RE    NC                         CA\\r\\n  "
      ]
     },
     "execution_count": 7,
     "metadata": {},
     "output_type": "execute_result"
    }
   ],
   "source": [
    "sample.head()"
   ]
  },
  {
   "cell_type": "code",
   "execution_count": 8,
   "metadata": {},
   "outputs": [
    {
     "name": "stdout",
     "output_type": "stream",
     "text": [
      "<class 'pandas.core.frame.DataFrame'>\n",
      "RangeIndex: 10104 entries, 0 to 10103\n",
      "Data columns (total 18 columns):\n",
      "sample_pk    10104 non-null int64\n",
      "state        10104 non-null object\n",
      "year         10104 non-null object\n",
      "month        10104 non-null object\n",
      "day          10104 non-null object\n",
      "site         10104 non-null object\n",
      "commod       10104 non-null object\n",
      "source_id    10104 non-null object\n",
      "variety      10104 non-null object\n",
      "origin       10104 non-null object\n",
      "country      10104 non-null object\n",
      "disttype     10104 non-null object\n",
      "commtype     10104 non-null object\n",
      "claim        10104 non-null object\n",
      "quantity     10104 non-null object\n",
      "growst       10104 non-null object\n",
      "packst       10104 non-null object\n",
      "distst       10104 non-null object\n",
      "dtypes: int64(1), object(17)\n",
      "memory usage: 1.4+ MB\n"
     ]
    }
   ],
   "source": [
    "sample.info()"
   ]
  },
  {
   "cell_type": "code",
   "execution_count": 44,
   "metadata": {},
   "outputs": [
    {
     "data": {
      "text/html": [
       "<div>\n",
       "<style scoped>\n",
       "    .dataframe tbody tr th:only-of-type {\n",
       "        vertical-align: middle;\n",
       "    }\n",
       "\n",
       "    .dataframe tbody tr th {\n",
       "        vertical-align: top;\n",
       "    }\n",
       "\n",
       "    .dataframe thead th {\n",
       "        text-align: right;\n",
       "    }\n",
       "</style>\n",
       "<table border=\"1\" class=\"dataframe\">\n",
       "  <thead>\n",
       "    <tr style=\"text-align: right;\">\n",
       "      <th></th>\n",
       "      <th>sample_pk</th>\n",
       "      <th>commod</th>\n",
       "      <th>commtype</th>\n",
       "      <th>lab</th>\n",
       "      <th>pestcode</th>\n",
       "      <th>testclass</th>\n",
       "      <th>concen</th>\n",
       "      <th>lod</th>\n",
       "      <th>conunit</th>\n",
       "      <th>confmethod</th>\n",
       "      <th>confmethod2</th>\n",
       "      <th>annotate</th>\n",
       "      <th>quantitate</th>\n",
       "      <th>mean</th>\n",
       "      <th>extract</th>\n",
       "      <th>determin</th>\n",
       "    </tr>\n",
       "  </thead>\n",
       "  <tbody>\n",
       "    <tr>\n",
       "      <th>0</th>\n",
       "      <td>1</td>\n",
       "      <td>AJ</td>\n",
       "      <td>RE</td>\n",
       "      <td>WA1</td>\n",
       "      <td>540</td>\n",
       "      <td>A</td>\n",
       "      <td></td>\n",
       "      <td>0.002</td>\n",
       "      <td>M</td>\n",
       "      <td></td>\n",
       "      <td></td>\n",
       "      <td></td>\n",
       "      <td></td>\n",
       "      <td>ND</td>\n",
       "      <td>805</td>\n",
       "      <td>35\\r\\n</td>\n",
       "    </tr>\n",
       "    <tr>\n",
       "      <th>1</th>\n",
       "      <td>1</td>\n",
       "      <td>AJ</td>\n",
       "      <td>RE</td>\n",
       "      <td>WA1</td>\n",
       "      <td>562</td>\n",
       "      <td>C</td>\n",
       "      <td></td>\n",
       "      <td>0.001</td>\n",
       "      <td>M</td>\n",
       "      <td></td>\n",
       "      <td></td>\n",
       "      <td></td>\n",
       "      <td></td>\n",
       "      <td>ND</td>\n",
       "      <td>805</td>\n",
       "      <td>52\\r\\n</td>\n",
       "    </tr>\n",
       "    <tr>\n",
       "      <th>2</th>\n",
       "      <td>1</td>\n",
       "      <td>AJ</td>\n",
       "      <td>RE</td>\n",
       "      <td>WA1</td>\n",
       "      <td>594</td>\n",
       "      <td>F</td>\n",
       "      <td></td>\n",
       "      <td>0.005</td>\n",
       "      <td>M</td>\n",
       "      <td></td>\n",
       "      <td></td>\n",
       "      <td></td>\n",
       "      <td></td>\n",
       "      <td>ND</td>\n",
       "      <td>805</td>\n",
       "      <td>52\\r\\n</td>\n",
       "    </tr>\n",
       "    <tr>\n",
       "      <th>3</th>\n",
       "      <td>1</td>\n",
       "      <td>AJ</td>\n",
       "      <td>RE</td>\n",
       "      <td>WA1</td>\n",
       "      <td>596</td>\n",
       "      <td>A</td>\n",
       "      <td></td>\n",
       "      <td>0.002</td>\n",
       "      <td>M</td>\n",
       "      <td></td>\n",
       "      <td></td>\n",
       "      <td></td>\n",
       "      <td></td>\n",
       "      <td>ND</td>\n",
       "      <td>805</td>\n",
       "      <td>52\\r\\n</td>\n",
       "    </tr>\n",
       "    <tr>\n",
       "      <th>4</th>\n",
       "      <td>1</td>\n",
       "      <td>AJ</td>\n",
       "      <td>RE</td>\n",
       "      <td>WA1</td>\n",
       "      <td>597</td>\n",
       "      <td>O</td>\n",
       "      <td></td>\n",
       "      <td>0.010</td>\n",
       "      <td>M</td>\n",
       "      <td></td>\n",
       "      <td></td>\n",
       "      <td></td>\n",
       "      <td></td>\n",
       "      <td>ND</td>\n",
       "      <td>805</td>\n",
       "      <td>35\\r\\n</td>\n",
       "    </tr>\n",
       "  </tbody>\n",
       "</table>\n",
       "</div>"
      ],
      "text/plain": [
       "   sample_pk commod commtype  lab pestcode testclass concen    lod conunit  \\\n",
       "0          1     AJ       RE  WA1      540         A         0.002       M   \n",
       "1          1     AJ       RE  WA1      562         C         0.001       M   \n",
       "2          1     AJ       RE  WA1      594         F         0.005       M   \n",
       "3          1     AJ       RE  WA1      596         A         0.002       M   \n",
       "4          1     AJ       RE  WA1      597         O         0.010       M   \n",
       "\n",
       "  confmethod confmethod2 annotate quantitate mean extract determin  \n",
       "0                                              ND     805   35\\r\\n  \n",
       "1                                              ND     805   52\\r\\n  \n",
       "2                                              ND     805   52\\r\\n  \n",
       "3                                              ND     805   52\\r\\n  \n",
       "4                                              ND     805   35\\r\\n  "
      ]
     },
     "execution_count": 44,
     "metadata": {},
     "output_type": "execute_result"
    }
   ],
   "source": [
    "result = con.execute('SELECT * FROM resultsdata13')\n",
    "results = pd.DataFrame(data=result.fetchall(), columns=result.keys())\n",
    "results.head()"
   ]
  },
  {
   "cell_type": "markdown",
   "metadata": {},
   "source": [
    "Drop irrelevant attributes: `concen`, `confmethod`, `determin`, `extract`, `pestcode`, `quantitate`, and `testclass`."
   ]
  },
  {
   "cell_type": "code",
   "execution_count": 10,
   "metadata": {},
   "outputs": [
    {
     "data": {
      "text/plain": [
       "      2018200\n",
       "Q        4533\n",
       "V         186\n",
       "QV        145\n",
       "X          23\n",
       "Name: annotate, dtype: int64"
      ]
     },
     "execution_count": 10,
     "metadata": {},
     "output_type": "execute_result"
    }
   ],
   "source": [
    "results['annotate'].value_counts()"
   ]
  },
  {
   "cell_type": "code",
   "execution_count": 11,
   "metadata": {},
   "outputs": [
    {
     "data": {
      "text/plain": [
       "True"
      ]
     },
     "execution_count": 11,
     "metadata": {},
     "output_type": "execute_result"
    }
   ],
   "source": [
    "results['annotate'][0] == ''"
   ]
  },
  {
   "cell_type": "code",
   "execution_count": 12,
   "metadata": {},
   "outputs": [
    {
     "data": {
      "text/plain": [
       "sample_pk      0\n",
       "commod         0\n",
       "commtype       0\n",
       "lab            0\n",
       "pestcode       0\n",
       "testclass      0\n",
       "concen         0\n",
       "lod            0\n",
       "conunit        0\n",
       "confmethod     0\n",
       "confmethod2    0\n",
       "annotate       0\n",
       "quantitate     0\n",
       "mean           0\n",
       "extract        0\n",
       "determin       0\n",
       "dtype: int64"
      ]
     },
     "execution_count": 12,
     "metadata": {},
     "output_type": "execute_result"
    }
   ],
   "source": [
    "results.isnull().sum()"
   ]
  },
  {
   "cell_type": "code",
   "execution_count": 13,
   "metadata": {},
   "outputs": [
    {
     "name": "stdout",
     "output_type": "stream",
     "text": [
      "<class 'pandas.core.frame.DataFrame'>\n",
      "RangeIndex: 2023087 entries, 0 to 2023086\n",
      "Data columns (total 16 columns):\n",
      "sample_pk      int64\n",
      "commod         object\n",
      "commtype       object\n",
      "lab            object\n",
      "pestcode       object\n",
      "testclass      object\n",
      "concen         object\n",
      "lod            float64\n",
      "conunit        object\n",
      "confmethod     object\n",
      "confmethod2    object\n",
      "annotate       object\n",
      "quantitate     object\n",
      "mean           object\n",
      "extract        object\n",
      "determin       object\n",
      "dtypes: float64(1), int64(1), object(14)\n",
      "memory usage: 247.0+ MB\n"
     ]
    }
   ],
   "source": [
    "results.info()"
   ]
  },
  {
   "cell_type": "code",
   "execution_count": 14,
   "metadata": {},
   "outputs": [
    {
     "data": {
      "text/html": [
       "<div>\n",
       "<style scoped>\n",
       "    .dataframe tbody tr th:only-of-type {\n",
       "        vertical-align: middle;\n",
       "    }\n",
       "\n",
       "    .dataframe tbody tr th {\n",
       "        vertical-align: top;\n",
       "    }\n",
       "\n",
       "    .dataframe thead th {\n",
       "        text-align: right;\n",
       "    }\n",
       "</style>\n",
       "<table border=\"1\" class=\"dataframe\">\n",
       "  <thead>\n",
       "    <tr style=\"text-align: right;\">\n",
       "      <th></th>\n",
       "      <th>sample_pk</th>\n",
       "      <th>commod</th>\n",
       "      <th>commtype</th>\n",
       "      <th>lab</th>\n",
       "      <th>pestcode</th>\n",
       "      <th>testclass</th>\n",
       "      <th>concen</th>\n",
       "      <th>lod</th>\n",
       "      <th>conunit</th>\n",
       "      <th>confmethod</th>\n",
       "      <th>confmethod2</th>\n",
       "      <th>annotate</th>\n",
       "      <th>quantitate</th>\n",
       "      <th>mean</th>\n",
       "      <th>extract</th>\n",
       "      <th>determin</th>\n",
       "    </tr>\n",
       "  </thead>\n",
       "  <tbody>\n",
       "    <tr>\n",
       "      <th>50238</th>\n",
       "      <td>239</td>\n",
       "      <td>AJ</td>\n",
       "      <td>RE</td>\n",
       "      <td>WA1</td>\n",
       "      <td>083</td>\n",
       "      <td>I</td>\n",
       "      <td>0.008</td>\n",
       "      <td>0.005</td>\n",
       "      <td>M</td>\n",
       "      <td>GT</td>\n",
       "      <td></td>\n",
       "      <td>Q</td>\n",
       "      <td></td>\n",
       "      <td>O</td>\n",
       "      <td>805</td>\n",
       "      <td>35\\r\\n</td>\n",
       "    </tr>\n",
       "    <tr>\n",
       "      <th>249096</th>\n",
       "      <td>1183</td>\n",
       "      <td>BR</td>\n",
       "      <td>FR</td>\n",
       "      <td>FL1</td>\n",
       "      <td>AFU</td>\n",
       "      <td>E</td>\n",
       "      <td>0.011</td>\n",
       "      <td>0.010</td>\n",
       "      <td>M</td>\n",
       "      <td>LU</td>\n",
       "      <td></td>\n",
       "      <td>V</td>\n",
       "      <td></td>\n",
       "      <td>O</td>\n",
       "      <td>805</td>\n",
       "      <td>52\\r\\n</td>\n",
       "    </tr>\n",
       "    <tr>\n",
       "      <th>251475</th>\n",
       "      <td>1196</td>\n",
       "      <td>BR</td>\n",
       "      <td>FR</td>\n",
       "      <td>FL1</td>\n",
       "      <td>AFU</td>\n",
       "      <td>E</td>\n",
       "      <td>0.013</td>\n",
       "      <td>0.010</td>\n",
       "      <td>M</td>\n",
       "      <td>LU</td>\n",
       "      <td></td>\n",
       "      <td>V</td>\n",
       "      <td></td>\n",
       "      <td>O</td>\n",
       "      <td>805</td>\n",
       "      <td>52\\r\\n</td>\n",
       "    </tr>\n",
       "    <tr>\n",
       "      <th>257567</th>\n",
       "      <td>1230</td>\n",
       "      <td>BR</td>\n",
       "      <td>FR</td>\n",
       "      <td>FL1</td>\n",
       "      <td>144</td>\n",
       "      <td>A</td>\n",
       "      <td>0.035</td>\n",
       "      <td>0.005</td>\n",
       "      <td>M</td>\n",
       "      <td>GT</td>\n",
       "      <td></td>\n",
       "      <td>V</td>\n",
       "      <td></td>\n",
       "      <td>O</td>\n",
       "      <td>805</td>\n",
       "      <td>35\\r\\n</td>\n",
       "    </tr>\n",
       "    <tr>\n",
       "      <th>264693</th>\n",
       "      <td>1269</td>\n",
       "      <td>BR</td>\n",
       "      <td>FR</td>\n",
       "      <td>FL1</td>\n",
       "      <td>180</td>\n",
       "      <td>E</td>\n",
       "      <td>0.026</td>\n",
       "      <td>0.010</td>\n",
       "      <td>M</td>\n",
       "      <td>LU</td>\n",
       "      <td></td>\n",
       "      <td>V</td>\n",
       "      <td></td>\n",
       "      <td>O</td>\n",
       "      <td>805</td>\n",
       "      <td>52\\r\\n</td>\n",
       "    </tr>\n",
       "  </tbody>\n",
       "</table>\n",
       "</div>"
      ],
      "text/plain": [
       "        sample_pk commod commtype  lab pestcode testclass concen    lod  \\\n",
       "50238         239     AJ       RE  WA1      083         I  0.008  0.005   \n",
       "249096       1183     BR       FR  FL1      AFU         E  0.011  0.010   \n",
       "251475       1196     BR       FR  FL1      AFU         E  0.013  0.010   \n",
       "257567       1230     BR       FR  FL1      144         A  0.035  0.005   \n",
       "264693       1269     BR       FR  FL1      180         E  0.026  0.010   \n",
       "\n",
       "       conunit confmethod confmethod2 annotate quantitate mean extract  \\\n",
       "50238        M         GT                    Q               O     805   \n",
       "249096       M         LU                    V               O     805   \n",
       "251475       M         LU                    V               O     805   \n",
       "257567       M         GT                    V               O     805   \n",
       "264693       M         LU                    V               O     805   \n",
       "\n",
       "       determin  \n",
       "50238    35\\r\\n  \n",
       "249096   52\\r\\n  \n",
       "251475   52\\r\\n  \n",
       "257567   35\\r\\n  \n",
       "264693   52\\r\\n  "
      ]
     },
     "execution_count": 14,
     "metadata": {},
     "output_type": "execute_result"
    }
   ],
   "source": [
    "results = results[results['annotate'] != '']\n",
    "results.head()"
   ]
  },
  {
   "cell_type": "code",
   "execution_count": 15,
   "metadata": {},
   "outputs": [
    {
     "data": {
      "text/plain": [
       "(4887, 16)"
      ]
     },
     "execution_count": 15,
     "metadata": {},
     "output_type": "execute_result"
    }
   ],
   "source": [
    "results.shape"
   ]
  },
  {
   "cell_type": "code",
   "execution_count": 16,
   "metadata": {},
   "outputs": [
    {
     "data": {
      "text/plain": [
       "      4885\n",
       "GT       2\n",
       "Name: confmethod2, dtype: int64"
      ]
     },
     "execution_count": 16,
     "metadata": {},
     "output_type": "execute_result"
    }
   ],
   "source": [
    "results['confmethod2'].value_counts()"
   ]
  },
  {
   "cell_type": "code",
   "execution_count": 17,
   "metadata": {},
   "outputs": [
    {
     "data": {
      "text/plain": [
       "     4834\n",
       "P      33\n",
       "E      20\n",
       "Name: quantitate, dtype: int64"
      ]
     },
     "execution_count": 17,
     "metadata": {},
     "output_type": "execute_result"
    }
   ],
   "source": [
    "results['quantitate'].value_counts()"
   ]
  },
  {
   "cell_type": "code",
   "execution_count": 18,
   "metadata": {},
   "outputs": [
    {
     "data": {
      "text/html": [
       "<div>\n",
       "<style scoped>\n",
       "    .dataframe tbody tr th:only-of-type {\n",
       "        vertical-align: middle;\n",
       "    }\n",
       "\n",
       "    .dataframe tbody tr th {\n",
       "        vertical-align: top;\n",
       "    }\n",
       "\n",
       "    .dataframe thead th {\n",
       "        text-align: right;\n",
       "    }\n",
       "</style>\n",
       "<table border=\"1\" class=\"dataframe\">\n",
       "  <thead>\n",
       "    <tr style=\"text-align: right;\">\n",
       "      <th></th>\n",
       "      <th>sample_pk</th>\n",
       "      <th>commod</th>\n",
       "      <th>commtype</th>\n",
       "      <th>lab</th>\n",
       "      <th>pestcode</th>\n",
       "      <th>testclass</th>\n",
       "      <th>concen</th>\n",
       "      <th>lod</th>\n",
       "      <th>conunit</th>\n",
       "      <th>confmethod</th>\n",
       "      <th>annotate</th>\n",
       "      <th>mean</th>\n",
       "      <th>extract</th>\n",
       "      <th>determin</th>\n",
       "    </tr>\n",
       "  </thead>\n",
       "  <tbody>\n",
       "    <tr>\n",
       "      <th>50238</th>\n",
       "      <td>239</td>\n",
       "      <td>AJ</td>\n",
       "      <td>RE</td>\n",
       "      <td>WA1</td>\n",
       "      <td>083</td>\n",
       "      <td>I</td>\n",
       "      <td>0.008</td>\n",
       "      <td>0.005</td>\n",
       "      <td>M</td>\n",
       "      <td>GT</td>\n",
       "      <td>Q</td>\n",
       "      <td>O</td>\n",
       "      <td>805</td>\n",
       "      <td>35\\r\\n</td>\n",
       "    </tr>\n",
       "    <tr>\n",
       "      <th>249096</th>\n",
       "      <td>1183</td>\n",
       "      <td>BR</td>\n",
       "      <td>FR</td>\n",
       "      <td>FL1</td>\n",
       "      <td>AFU</td>\n",
       "      <td>E</td>\n",
       "      <td>0.011</td>\n",
       "      <td>0.010</td>\n",
       "      <td>M</td>\n",
       "      <td>LU</td>\n",
       "      <td>V</td>\n",
       "      <td>O</td>\n",
       "      <td>805</td>\n",
       "      <td>52\\r\\n</td>\n",
       "    </tr>\n",
       "    <tr>\n",
       "      <th>251475</th>\n",
       "      <td>1196</td>\n",
       "      <td>BR</td>\n",
       "      <td>FR</td>\n",
       "      <td>FL1</td>\n",
       "      <td>AFU</td>\n",
       "      <td>E</td>\n",
       "      <td>0.013</td>\n",
       "      <td>0.010</td>\n",
       "      <td>M</td>\n",
       "      <td>LU</td>\n",
       "      <td>V</td>\n",
       "      <td>O</td>\n",
       "      <td>805</td>\n",
       "      <td>52\\r\\n</td>\n",
       "    </tr>\n",
       "    <tr>\n",
       "      <th>257567</th>\n",
       "      <td>1230</td>\n",
       "      <td>BR</td>\n",
       "      <td>FR</td>\n",
       "      <td>FL1</td>\n",
       "      <td>144</td>\n",
       "      <td>A</td>\n",
       "      <td>0.035</td>\n",
       "      <td>0.005</td>\n",
       "      <td>M</td>\n",
       "      <td>GT</td>\n",
       "      <td>V</td>\n",
       "      <td>O</td>\n",
       "      <td>805</td>\n",
       "      <td>35\\r\\n</td>\n",
       "    </tr>\n",
       "    <tr>\n",
       "      <th>264693</th>\n",
       "      <td>1269</td>\n",
       "      <td>BR</td>\n",
       "      <td>FR</td>\n",
       "      <td>FL1</td>\n",
       "      <td>180</td>\n",
       "      <td>E</td>\n",
       "      <td>0.026</td>\n",
       "      <td>0.010</td>\n",
       "      <td>M</td>\n",
       "      <td>LU</td>\n",
       "      <td>V</td>\n",
       "      <td>O</td>\n",
       "      <td>805</td>\n",
       "      <td>52\\r\\n</td>\n",
       "    </tr>\n",
       "  </tbody>\n",
       "</table>\n",
       "</div>"
      ],
      "text/plain": [
       "        sample_pk commod commtype  lab pestcode testclass concen    lod  \\\n",
       "50238         239     AJ       RE  WA1      083         I  0.008  0.005   \n",
       "249096       1183     BR       FR  FL1      AFU         E  0.011  0.010   \n",
       "251475       1196     BR       FR  FL1      AFU         E  0.013  0.010   \n",
       "257567       1230     BR       FR  FL1      144         A  0.035  0.005   \n",
       "264693       1269     BR       FR  FL1      180         E  0.026  0.010   \n",
       "\n",
       "       conunit confmethod annotate mean extract determin  \n",
       "50238        M         GT        Q    O     805   35\\r\\n  \n",
       "249096       M         LU        V    O     805   52\\r\\n  \n",
       "251475       M         LU        V    O     805   52\\r\\n  \n",
       "257567       M         GT        V    O     805   35\\r\\n  \n",
       "264693       M         LU        V    O     805   52\\r\\n  "
      ]
     },
     "execution_count": 18,
     "metadata": {},
     "output_type": "execute_result"
    }
   ],
   "source": [
    "results.drop(['confmethod2', 'quantitate', 'concen'], axis=1, inplace=True)\n",
    "results.head()"
   ]
  },
  {
   "cell_type": "code",
   "execution_count": 19,
   "metadata": {},
   "outputs": [
    {
     "data": {
      "text/plain": [
       "(4887, 14)"
      ]
     },
     "execution_count": 19,
     "metadata": {},
     "output_type": "execute_result"
    }
   ],
   "source": [
    "results.shape"
   ]
  },
  {
   "cell_type": "code",
   "execution_count": 20,
   "metadata": {},
   "outputs": [
    {
     "name": "stdout",
     "output_type": "stream",
     "text": [
      "<class 'pandas.core.frame.DataFrame'>\n",
      "Int64Index: 4887 entries, 50238 to 1967810\n",
      "Data columns (total 14 columns):\n",
      "sample_pk     4887 non-null int64\n",
      "commod        4887 non-null object\n",
      "commtype      4887 non-null object\n",
      "lab           4887 non-null object\n",
      "pestcode      4887 non-null object\n",
      "testclass     4887 non-null object\n",
      "concen        4887 non-null object\n",
      "lod           4887 non-null float64\n",
      "conunit       4887 non-null object\n",
      "confmethod    4887 non-null object\n",
      "annotate      4887 non-null object\n",
      "mean          4887 non-null object\n",
      "extract       4887 non-null object\n",
      "determin      4887 non-null object\n",
      "dtypes: float64(1), int64(1), object(12)\n",
      "memory usage: 572.7+ KB\n"
     ]
    }
   ],
   "source": [
    "results.info()"
   ]
  },
  {
   "cell_type": "code",
   "execution_count": 28,
   "metadata": {},
   "outputs": [
    {
     "name": "stdout",
     "output_type": "stream",
     "text": [
      "<class 'pandas.core.frame.DataFrame'>\n",
      "Int64Index: 4887 entries, 50238 to 1967810\n",
      "Data columns (total 14 columns):\n",
      "sample_pk     4887 non-null int64\n",
      "commod        4887 non-null object\n",
      "commtype      4887 non-null object\n",
      "lab           4887 non-null object\n",
      "pestcode      4887 non-null object\n",
      "testclass     4887 non-null object\n",
      "concen        4887 non-null float64\n",
      "lod           4887 non-null float64\n",
      "conunit       4887 non-null object\n",
      "confmethod    4887 non-null object\n",
      "annotate      4887 non-null object\n",
      "mean          4887 non-null object\n",
      "extract       4887 non-null int64\n",
      "determin      4887 non-null object\n",
      "dtypes: float64(2), int64(2), object(10)\n",
      "memory usage: 572.7+ KB\n"
     ]
    }
   ],
   "source": [
    "results['extract'] = results['extract'].astype(int)\n",
    "results.info()"
   ]
  },
  {
   "cell_type": "code",
   "execution_count": 29,
   "metadata": {},
   "outputs": [
    {
     "data": {
      "text/plain": [
       "Index(['sample_pk', 'commod', 'commtype', 'lab', 'pestcode', 'testclass',\n",
       "       'concen', 'lod', 'conunit', 'confmethod', 'annotate', 'mean', 'extract',\n",
       "       'determin'],\n",
       "      dtype='object')"
      ]
     },
     "execution_count": 29,
     "metadata": {},
     "output_type": "execute_result"
    }
   ],
   "source": [
    "results.columns"
   ]
  },
  {
   "cell_type": "code",
   "execution_count": 39,
   "metadata": {},
   "outputs": [
    {
     "data": {
      "text/plain": [
       "True"
      ]
     },
     "execution_count": 39,
     "metadata": {},
     "output_type": "execute_result"
    }
   ],
   "source": [
    "results['annotate'].dtype == 'O'"
   ]
  },
  {
   "cell_type": "code",
   "execution_count": 43,
   "metadata": {},
   "outputs": [
    {
     "ename": "FileNotFoundError",
     "evalue": "[Errno 2] No such file or directory: './data/annotate_codes.csv'",
     "output_type": "error",
     "traceback": [
      "\u001b[0;31m---------------------------------------------------------------------------\u001b[0m",
      "\u001b[0;31mFileNotFoundError\u001b[0m                         Traceback (most recent call last)",
      "\u001b[0;32m<ipython-input-43-4f8bd343ae8b>\u001b[0m in \u001b[0;36m<module>\u001b[0;34m\u001b[0m\n\u001b[1;32m     20\u001b[0m                 \u001b[0mdf\u001b[0m\u001b[0;34m[\u001b[0m\u001b[0mcol\u001b[0m\u001b[0;34m]\u001b[0m\u001b[0;34m.\u001b[0m\u001b[0mreplace\u001b[0m\u001b[0;34m(\u001b[0m\u001b[0mrow\u001b[0m\u001b[0;34m[\u001b[0m\u001b[0;36m0\u001b[0m\u001b[0;34m]\u001b[0m\u001b[0;34m,\u001b[0m \u001b[0mrow\u001b[0m\u001b[0;34m[\u001b[0m\u001b[0;36m1\u001b[0m\u001b[0;34m]\u001b[0m\u001b[0;34m)\u001b[0m\u001b[0;34m\u001b[0m\u001b[0;34m\u001b[0m\u001b[0m\n\u001b[1;32m     21\u001b[0m \u001b[0;34m\u001b[0m\u001b[0m\n\u001b[0;32m---> 22\u001b[0;31m \u001b[0mhuman_readify\u001b[0m\u001b[0;34m(\u001b[0m\u001b[0mresults\u001b[0m\u001b[0;34m)\u001b[0m\u001b[0;34m\u001b[0m\u001b[0;34m\u001b[0m\u001b[0m\n\u001b[0m",
      "\u001b[0;32m<ipython-input-43-4f8bd343ae8b>\u001b[0m in \u001b[0;36mhuman_readify\u001b[0;34m(df)\u001b[0m\n\u001b[1;32m     15\u001b[0m     ]\n\u001b[1;32m     16\u001b[0m     \u001b[0;32mfor\u001b[0m \u001b[0mcol\u001b[0m\u001b[0;34m,\u001b[0m \u001b[0mcsv\u001b[0m \u001b[0;32min\u001b[0m \u001b[0mmap_\u001b[0m\u001b[0;34m:\u001b[0m\u001b[0;34m\u001b[0m\u001b[0;34m\u001b[0m\u001b[0m\n\u001b[0;32m---> 17\u001b[0;31m         \u001b[0;32mwith\u001b[0m \u001b[0mopen\u001b[0m\u001b[0;34m(\u001b[0m\u001b[0;34mf'./data/{csv}'\u001b[0m\u001b[0;34m)\u001b[0m \u001b[0;32mas\u001b[0m \u001b[0mf\u001b[0m\u001b[0;34m:\u001b[0m\u001b[0;34m\u001b[0m\u001b[0;34m\u001b[0m\u001b[0m\n\u001b[0m\u001b[1;32m     18\u001b[0m             \u001b[0;32mfor\u001b[0m \u001b[0mrow\u001b[0m \u001b[0;32min\u001b[0m \u001b[0mf\u001b[0m\u001b[0;34m:\u001b[0m\u001b[0;34m\u001b[0m\u001b[0;34m\u001b[0m\u001b[0m\n\u001b[1;32m     19\u001b[0m                 \u001b[0mrow\u001b[0m \u001b[0;34m=\u001b[0m \u001b[0mrow\u001b[0m\u001b[0;34m.\u001b[0m\u001b[0msplit\u001b[0m\u001b[0;34m(\u001b[0m\u001b[0;34m','\u001b[0m\u001b[0;34m)\u001b[0m\u001b[0;34m\u001b[0m\u001b[0;34m\u001b[0m\u001b[0m\n",
      "\u001b[0;31mFileNotFoundError\u001b[0m: [Errno 2] No such file or directory: './data/annotate_codes.csv'"
     ]
    }
   ],
   "source": [
    "def human_readify(df):\n",
    "    map_ = [\n",
    "        ('annotate', 'annotate_codes.csv'),\n",
    "        ('commod', 'commodity_codes.csv'),\n",
    "        ('commtype', 'commod_type_codes.csv'),\n",
    "        ('lab', 'lab_codes.csv'), \n",
    "        ('pestcode', 'pest_codes.csv'),\n",
    "        ('testclass', 'test_class_codes.csv'), \n",
    "        ('confmethod', 'confmethod_codes.csv'),\n",
    "        ('annotate', 'annotate_codes.csv'),\n",
    "        ('mean', 'mean_codes.csv'),\n",
    "        ('extract', 'extract_codes.csv'),\n",
    "        ('determin', 'determin_codes.csv')\n",
    "    ]\n",
    "    for col, csv in map_:\n",
    "        with open(f'./data/{csv}') as f:\n",
    "            for row in f:\n",
    "                row = row.split(',')\n",
    "                df[col].replace(row[0], row[1])\n",
    "                \n",
    "human_readify(results)"
   ]
  }
 ],
 "metadata": {
  "kernelspec": {
   "display_name": "Python 3",
   "language": "python",
   "name": "python3"
  },
  "language_info": {
   "codemirror_mode": {
    "name": "ipython",
    "version": 3
   },
   "file_extension": ".py",
   "mimetype": "text/x-python",
   "name": "python",
   "nbconvert_exporter": "python",
   "pygments_lexer": "ipython3",
   "version": "3.7.1"
  }
 },
 "nbformat": 4,
 "nbformat_minor": 2
}
